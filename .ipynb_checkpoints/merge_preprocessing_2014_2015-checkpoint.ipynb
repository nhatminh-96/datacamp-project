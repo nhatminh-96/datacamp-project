{
 "cells": [
  {
   "cell_type": "code",
   "execution_count": 1,
   "metadata": {},
   "outputs": [],
   "source": [
    "import numpy as np\n",
    "import pandas as pd\n",
    "import string\n",
    "import re\n",
    "\n",
    "import seaborn as sns\n",
    "pd.set_option('display.max_columns', None)"
   ]
  },
  {
   "cell_type": "code",
   "execution_count": 2,
   "metadata": {},
   "outputs": [],
   "source": [
    "import warnings\n",
    "warnings.filterwarnings('ignore')"
   ]
  },
  {
   "cell_type": "code",
   "execution_count": 3,
   "metadata": {},
   "outputs": [],
   "source": [
    "data_path = \"data/\""
   ]
  },
  {
   "cell_type": "code",
   "execution_count": null,
   "metadata": {},
   "outputs": [],
   "source": [
    "player_stat = pd.read_excel(data_path + \"players stat.xlsx\")\n",
    "player_cv = pd.read_excel(data_path + \"players cv.xlsx\")\n",
    "player_salary = pd.read_excel(data_path + \"players salary.xlsx\")"
   ]
  },
  {
   "cell_type": "markdown",
   "metadata": {},
   "source": [
    "### 2014-2015 season for player_stat"
   ]
  },
  {
   "cell_type": "code",
   "execution_count": null,
   "metadata": {},
   "outputs": [],
   "source": [
    "player_stat_14_15 = player_stat[player_stat['Season'] == '2014-15']\n",
    "player_stat_14_15.shape"
   ]
  },
  {
   "cell_type": "code",
   "execution_count": null,
   "metadata": {},
   "outputs": [],
   "source": [
    "player_stat_14_15['Player'].value_counts()"
   ]
  },
  {
   "cell_type": "markdown",
   "metadata": {},
   "source": [
    "<div class=\"alert alert-success\">\n",
    "\n",
    "- Comment: no duplicated names for player_stat_14_15"
   ]
  },
  {
   "cell_type": "markdown",
   "metadata": {},
   "source": [
    "### Get 2014-2015 data for player_cv"
   ]
  },
  {
   "cell_type": "code",
   "execution_count": null,
   "metadata": {},
   "outputs": [],
   "source": [
    "player_cv_14_15 = player_cv[(player_cv['From']<=2015) & (player_cv['To']>=2014)]"
   ]
  },
  {
   "cell_type": "code",
   "execution_count": null,
   "metadata": {},
   "outputs": [],
   "source": [
    "player_cv_14_15.shape"
   ]
  },
  {
   "cell_type": "markdown",
   "metadata": {},
   "source": [
    "### Merge these two"
   ]
  },
  {
   "cell_type": "code",
   "execution_count": null,
   "metadata": {},
   "outputs": [],
   "source": [
    "merge_stat_cv = pd.merge(player_stat_14_15, player_cv_14_15, left_on='Player', right_on='Player', how='inner')"
   ]
  },
  {
   "cell_type": "code",
   "execution_count": null,
   "metadata": {},
   "outputs": [],
   "source": [
    "merge_stat_cv.shape[0] == player_stat_14_15.shape[0]"
   ]
  },
  {
   "cell_type": "markdown",
   "metadata": {},
   "source": [
    "<div class=\"alert alert-success\">\n",
    "\n",
    "- Comment: $\\{$player $P$: $P \\in$ player_stat_14_15$\\}$  $\\subseteq$ \\{ player $P$: $P \\in$ player_cv_14_15 \\}"
   ]
  },
  {
   "cell_type": "markdown",
   "metadata": {},
   "source": [
    "### Get 2014-2015 data for player_salary"
   ]
  },
  {
   "cell_type": "code",
   "execution_count": null,
   "metadata": {},
   "outputs": [],
   "source": [
    "player_salary_14_15 = player_salary[player_salary['SEASON'] == '2014-2015']"
   ]
  },
  {
   "cell_type": "code",
   "execution_count": null,
   "metadata": {},
   "outputs": [],
   "source": [
    "player_salary_14_15.shape"
   ]
  },
  {
   "cell_type": "code",
   "execution_count": null,
   "metadata": {},
   "outputs": [],
   "source": [
    "player_salary_14_15.head(3)"
   ]
  },
  {
   "cell_type": "markdown",
   "metadata": {},
   "source": [
    "#### preprocess the name"
   ]
  },
  {
   "cell_type": "code",
   "execution_count": null,
   "metadata": {},
   "outputs": [],
   "source": [
    "# all names contain \",\"\n",
    "player_salary_14_15['NAME'].str.contains(\",\").sum() == player_salary_14_15.shape[0]"
   ]
  },
  {
   "cell_type": "code",
   "execution_count": null,
   "metadata": {},
   "outputs": [],
   "source": [
    "# all names contain one and only one \",\"\n",
    "for l in player_salary_14_15['NAME'].str.split(\",\").to_list():\n",
    "    if len(l)!=2:\n",
    "        print(l)"
   ]
  },
  {
   "cell_type": "markdown",
   "metadata": {},
   "source": [
    "<div class=\"alert alert-success\">\n",
    "\n",
    "- Comment: We noticed that in player_salary_14_15, these four players' names are not in good format: Jeff Taylor, Louis Williams, Luc Richard Mbah A Moute, Patty Mills. For example, in the table merge_stat_cv, Jeff Taylor is called Jeffery Taylor."
   ]
  },
  {
   "cell_type": "code",
   "execution_count": null,
   "metadata": {},
   "outputs": [],
   "source": [
    "false_names = ['jeff taylor', 'louis williams', 'luc richard mbah a moute', 'patty mills']\n",
    "true_names = ['jeffery taylor', 'lou williams', 'luc mbah a moute', 'patrick mills']"
   ]
  },
  {
   "cell_type": "code",
   "execution_count": null,
   "metadata": {},
   "outputs": [],
   "source": [
    "def preprocess_name(name):\n",
    "    if ',' in name:\n",
    "        ind = name.find(',')\n",
    "        name = name[:ind]\n",
    "    ### We remove the Jr.\n",
    "    if \"Jr.\" in name:\n",
    "        name = name.replace(\" Jr.\", \"\")\n",
    "    if \"Jr\" in name:\n",
    "        name = name.replace(\" Jr.\", \"\")\n",
    "    if \"III\" in name:\n",
    "        name = name.replace(\" III\", \"\")\n",
    "    while '.' in name:\n",
    "        ind = name.find('.')\n",
    "        name = name.replace('.','')\n",
    "        \n",
    "    name = name.lower()\n",
    "    name = name.strip()\n",
    "    \n",
    "    if name in false_names:\n",
    "        name = true_names[false_names.index(name)]\n",
    "    \n",
    "    return name"
   ]
  },
  {
   "cell_type": "markdown",
   "metadata": {},
   "source": [
    "## Final dataframe to work on for 2014-2015"
   ]
  },
  {
   "cell_type": "code",
   "execution_count": null,
   "metadata": {},
   "outputs": [],
   "source": [
    "player_salary_14_15['Player'] = player_salary_14_15['NAME'].apply(lambda s: preprocess_name(s))"
   ]
  },
  {
   "cell_type": "code",
   "execution_count": null,
   "metadata": {},
   "outputs": [],
   "source": [
    "merge_stat_cv['Player'] = merge_stat_cv['Player'].apply(lambda s: preprocess_name(s))"
   ]
  },
  {
   "cell_type": "code",
   "execution_count": null,
   "metadata": {},
   "outputs": [],
   "source": [
    "merge_14_15 = pd.merge(merge_stat_cv, player_salary_14_15, left_on='Player', right_on='Player', how='inner')\n",
    "merge_14_15.shape"
   ]
  },
  {
   "cell_type": "code",
   "execution_count": null,
   "metadata": {},
   "outputs": [],
   "source": [
    "merge_14_15.head()"
   ]
  },
  {
   "cell_type": "code",
   "execution_count": null,
   "metadata": {},
   "outputs": [],
   "source": [
    "np.sort(merge_14_15.TEAM.unique())"
   ]
  },
  {
   "cell_type": "code",
   "execution_count": null,
   "metadata": {},
   "outputs": [],
   "source": [
    "merge_14_15.to_csv(data_path + \"merge_14_15.csv\", index=False)"
   ]
  },
  {
   "cell_type": "code",
   "execution_count": null,
   "metadata": {},
   "outputs": [],
   "source": []
  }
 ],
 "metadata": {
  "kernelspec": {
   "display_name": "Python 3",
   "language": "python",
   "name": "python3"
  },
  "language_info": {
   "codemirror_mode": {
    "name": "ipython",
    "version": 3
   },
   "file_extension": ".py",
   "mimetype": "text/x-python",
   "name": "python",
   "nbconvert_exporter": "python",
   "pygments_lexer": "ipython3",
   "version": "3.8.8"
  }
 },
 "nbformat": 4,
 "nbformat_minor": 4
}
