{
 "cells": [
  {
   "cell_type": "code",
   "execution_count": 1,
   "metadata": {},
   "outputs": [],
   "source": [
    "import numpy as np\n",
    "import pandas as pd\n",
    "import string\n",
    "import re\n",
    "\n",
    "import seaborn as sns\n",
    "pd.set_option('display.max_columns', None)"
   ]
  },
  {
   "cell_type": "code",
   "execution_count": 2,
   "metadata": {},
   "outputs": [],
   "source": [
    "import warnings\n",
    "warnings.filterwarnings('ignore')"
   ]
  },
  {
   "cell_type": "code",
   "execution_count": 3,
   "metadata": {},
   "outputs": [],
   "source": [
    "data_path = \"data/\""
   ]
  },
  {
   "cell_type": "code",
   "execution_count": 4,
   "metadata": {},
   "outputs": [],
   "source": [
    "player_stat = pd.read_excel(data_path + \"players stat.xlsx\")\n",
    "player_cv = pd.read_excel(data_path + \"players cv.xlsx\")\n",
    "player_salary = pd.read_excel(data_path + \"players salary.xlsx\")"
   ]
  },
  {
   "cell_type": "markdown",
   "metadata": {},
   "source": [
    "### 2013-2014 season for player_stat"
   ]
  },
  {
   "cell_type": "code",
   "execution_count": 5,
   "metadata": {},
   "outputs": [
    {
     "data": {
      "text/plain": [
       "(482, 29)"
      ]
     },
     "execution_count": 5,
     "metadata": {},
     "output_type": "execute_result"
    }
   ],
   "source": [
    "player_stat_13_14 = player_stat[player_stat['Season'] == '2013-14']\n",
    "player_stat_13_14.shape"
   ]
  },
  {
   "cell_type": "code",
   "execution_count": 6,
   "metadata": {},
   "outputs": [],
   "source": [
    "player_stat_13_14 = player_stat_13_14.reset_index(drop=True)"
   ]
  },
  {
   "cell_type": "code",
   "execution_count": 7,
   "metadata": {},
   "outputs": [
    {
     "data": {
      "text/plain": [
       "Tony Mitchell       2\n",
       "Quincy Acy          1\n",
       "Arnett Moultrie     1\n",
       "Andrew Nicholson    1\n",
       "Jameer Nelson       1\n",
       "                   ..\n",
       "Kevin Garnett       1\n",
       "Francisco Garcia    1\n",
       "Channing Frye       1\n",
       "Joel Freeland       1\n",
       "Tyler Zeller        1\n",
       "Name: Player, Length: 481, dtype: int64"
      ]
     },
     "execution_count": 7,
     "metadata": {},
     "output_type": "execute_result"
    }
   ],
   "source": [
    "player_stat_13_14['Player'].value_counts()"
   ]
  },
  {
   "cell_type": "markdown",
   "metadata": {},
   "source": [
    "<div class=\"alert alert-success\">\n",
    "\n",
    "- Comment: one duplicated name (```Tony Mitchell```) for season 2013-2014. We distinguish them by adding their ages on names."
   ]
  },
  {
   "cell_type": "code",
   "execution_count": 8,
   "metadata": {},
   "outputs": [
    {
     "data": {
      "text/html": [
       "<div>\n",
       "<style scoped>\n",
       "    .dataframe tbody tr th:only-of-type {\n",
       "        vertical-align: middle;\n",
       "    }\n",
       "\n",
       "    .dataframe tbody tr th {\n",
       "        vertical-align: top;\n",
       "    }\n",
       "\n",
       "    .dataframe thead th {\n",
       "        text-align: right;\n",
       "    }\n",
       "</style>\n",
       "<table border=\"1\" class=\"dataframe\">\n",
       "  <thead>\n",
       "    <tr style=\"text-align: right;\">\n",
       "      <th></th>\n",
       "      <th>Player</th>\n",
       "      <th>Season</th>\n",
       "      <th>Age</th>\n",
       "      <th>Tm</th>\n",
       "      <th>Lg</th>\n",
       "      <th>G</th>\n",
       "      <th>GS</th>\n",
       "      <th>MP</th>\n",
       "      <th>PER</th>\n",
       "      <th>3PAr</th>\n",
       "      <th>FTr</th>\n",
       "      <th>ORB%</th>\n",
       "      <th>DRB%</th>\n",
       "      <th>TRB%</th>\n",
       "      <th>AST%</th>\n",
       "      <th>STL%</th>\n",
       "      <th>BLK%</th>\n",
       "      <th>TOV%</th>\n",
       "      <th>USG%</th>\n",
       "      <th>ORtg</th>\n",
       "      <th>DRtg</th>\n",
       "      <th>OWS</th>\n",
       "      <th>DWS</th>\n",
       "      <th>WS</th>\n",
       "      <th>WS/48</th>\n",
       "      <th>OBPM</th>\n",
       "      <th>DBPM</th>\n",
       "      <th>BPM</th>\n",
       "      <th>VORP</th>\n",
       "    </tr>\n",
       "  </thead>\n",
       "  <tbody>\n",
       "    <tr>\n",
       "      <th>308</th>\n",
       "      <td>Tony Mitchell</td>\n",
       "      <td>2013-14</td>\n",
       "      <td>24.0</td>\n",
       "      <td>MIL</td>\n",
       "      <td>NBA</td>\n",
       "      <td>3</td>\n",
       "      <td>0.0</td>\n",
       "      <td>10.0</td>\n",
       "      <td>30.9</td>\n",
       "      <td>0.200</td>\n",
       "      <td>0.000</td>\n",
       "      <td>11.1</td>\n",
       "      <td>0.0</td>\n",
       "      <td>5.7</td>\n",
       "      <td>22.6</td>\n",
       "      <td>5.2</td>\n",
       "      <td>0.0</td>\n",
       "      <td>0.0</td>\n",
       "      <td>22.6</td>\n",
       "      <td>132.0</td>\n",
       "      <td>109.0</td>\n",
       "      <td>0.0</td>\n",
       "      <td>0.0</td>\n",
       "      <td>0.1</td>\n",
       "      <td>0.242</td>\n",
       "      <td>8.6</td>\n",
       "      <td>-2.1</td>\n",
       "      <td>6.5</td>\n",
       "      <td>0.0</td>\n",
       "    </tr>\n",
       "    <tr>\n",
       "      <th>309</th>\n",
       "      <td>Tony Mitchell</td>\n",
       "      <td>2013-14</td>\n",
       "      <td>21.0</td>\n",
       "      <td>DET</td>\n",
       "      <td>NBA</td>\n",
       "      <td>21</td>\n",
       "      <td>0.0</td>\n",
       "      <td>79.0</td>\n",
       "      <td>18.1</td>\n",
       "      <td>0.083</td>\n",
       "      <td>1.583</td>\n",
       "      <td>19.7</td>\n",
       "      <td>16.0</td>\n",
       "      <td>18.0</td>\n",
       "      <td>3.4</td>\n",
       "      <td>3.8</td>\n",
       "      <td>3.0</td>\n",
       "      <td>16.4</td>\n",
       "      <td>13.2</td>\n",
       "      <td>117.0</td>\n",
       "      <td>104.0</td>\n",
       "      <td>0.1</td>\n",
       "      <td>0.1</td>\n",
       "      <td>0.2</td>\n",
       "      <td>0.151</td>\n",
       "      <td>-0.1</td>\n",
       "      <td>1.4</td>\n",
       "      <td>1.3</td>\n",
       "      <td>0.1</td>\n",
       "    </tr>\n",
       "  </tbody>\n",
       "</table>\n",
       "</div>"
      ],
      "text/plain": [
       "            Player   Season   Age   Tm   Lg   G   GS    MP   PER   3PAr  \\\n",
       "308  Tony Mitchell  2013-14  24.0  MIL  NBA   3  0.0  10.0  30.9  0.200   \n",
       "309  Tony Mitchell  2013-14  21.0  DET  NBA  21  0.0  79.0  18.1  0.083   \n",
       "\n",
       "       FTr  ORB%  DRB%  TRB%  AST%  STL%  BLK%  TOV%  USG%   ORtg   DRtg  OWS  \\\n",
       "308  0.000  11.1   0.0   5.7  22.6   5.2   0.0   0.0  22.6  132.0  109.0  0.0   \n",
       "309  1.583  19.7  16.0  18.0   3.4   3.8   3.0  16.4  13.2  117.0  104.0  0.1   \n",
       "\n",
       "     DWS   WS  WS/48  OBPM  DBPM  BPM  VORP  \n",
       "308  0.0  0.1  0.242   8.6  -2.1  6.5   0.0  \n",
       "309  0.1  0.2  0.151  -0.1   1.4  1.3   0.1  "
      ]
     },
     "execution_count": 8,
     "metadata": {},
     "output_type": "execute_result"
    }
   ],
   "source": [
    "player_stat_13_14[player_stat_13_14['Player']=='Tony Mitchell']"
   ]
  },
  {
   "cell_type": "code",
   "execution_count": 9,
   "metadata": {},
   "outputs": [],
   "source": [
    "player_stat_13_14.iloc[308, 0] = 'Tony Mitchell 24'\n",
    "player_stat_13_14.iloc[309, 0] = 'Tony Mitchell 21'"
   ]
  },
  {
   "cell_type": "code",
   "execution_count": 10,
   "metadata": {},
   "outputs": [
    {
     "data": {
      "text/plain": [
       "True"
      ]
     },
     "execution_count": 10,
     "metadata": {},
     "output_type": "execute_result"
    }
   ],
   "source": [
    "len(player_stat_13_14['Player'].value_counts()) == player_stat_13_14.shape[0]"
   ]
  },
  {
   "cell_type": "markdown",
   "metadata": {},
   "source": [
    "### Get 2013-2014 data for player_cv"
   ]
  },
  {
   "cell_type": "code",
   "execution_count": 11,
   "metadata": {},
   "outputs": [],
   "source": [
    "player_cv_13_14 = player_cv[(player_cv['From']<=2014) & (player_cv['To']>=2013)]\n",
    "player_cv_13_14 = player_cv_13_14.reset_index(drop=True)"
   ]
  },
  {
   "cell_type": "code",
   "execution_count": 12,
   "metadata": {},
   "outputs": [
    {
     "data": {
      "text/plain": [
       "(574, 10)"
      ]
     },
     "execution_count": 12,
     "metadata": {},
     "output_type": "execute_result"
    }
   ],
   "source": [
    "player_cv_13_14.shape"
   ]
  },
  {
   "cell_type": "code",
   "execution_count": 13,
   "metadata": {},
   "outputs": [
    {
     "data": {
      "text/plain": [
       "Tony Mitchell       2\n",
       "Chris Johnson       2\n",
       "Chris Wright        2\n",
       "Quincy Acy          1\n",
       "Nemanja Nedovic     1\n",
       "                   ..\n",
       "Daniel Gibson       1\n",
       "Paul George         1\n",
       "Mickael Gelabale    1\n",
       "Alonzo Gee          1\n",
       "Tyler Zeller        1\n",
       "Name: Player, Length: 571, dtype: int64"
      ]
     },
     "execution_count": 13,
     "metadata": {},
     "output_type": "execute_result"
    }
   ],
   "source": [
    "player_cv_13_14['Player'].value_counts()"
   ]
  },
  {
   "cell_type": "markdown",
   "metadata": {},
   "source": [
    "<div class=\"alert alert-success\">\n",
    "\n",
    "- Comment: 3 duplicated name for season 2013-2014 with one in ```player_stat``` table."
   ]
  },
  {
   "cell_type": "code",
   "execution_count": 14,
   "metadata": {},
   "outputs": [
    {
     "data": {
      "text/html": [
       "<div>\n",
       "<style scoped>\n",
       "    .dataframe tbody tr th:only-of-type {\n",
       "        vertical-align: middle;\n",
       "    }\n",
       "\n",
       "    .dataframe tbody tr th {\n",
       "        vertical-align: top;\n",
       "    }\n",
       "\n",
       "    .dataframe thead th {\n",
       "        text-align: right;\n",
       "    }\n",
       "</style>\n",
       "<table border=\"1\" class=\"dataframe\">\n",
       "  <thead>\n",
       "    <tr style=\"text-align: right;\">\n",
       "      <th></th>\n",
       "      <th>Player</th>\n",
       "      <th>Place_of_Birth</th>\n",
       "      <th>Race</th>\n",
       "      <th>From</th>\n",
       "      <th>To</th>\n",
       "      <th>Pos</th>\n",
       "      <th>Ht</th>\n",
       "      <th>Wt</th>\n",
       "      <th>Birth Date</th>\n",
       "      <th>College</th>\n",
       "    </tr>\n",
       "  </thead>\n",
       "  <tbody>\n",
       "    <tr>\n",
       "      <th>363</th>\n",
       "      <td>Tony Mitchell</td>\n",
       "      <td>Georgia</td>\n",
       "      <td>Black</td>\n",
       "      <td>2014</td>\n",
       "      <td>2014</td>\n",
       "      <td>F</td>\n",
       "      <td>6-6</td>\n",
       "      <td>216</td>\n",
       "      <td>August 7, 1989</td>\n",
       "      <td>University of Alabama</td>\n",
       "    </tr>\n",
       "    <tr>\n",
       "      <th>364</th>\n",
       "      <td>Tony Mitchell</td>\n",
       "      <td>Wisconsin</td>\n",
       "      <td>Black</td>\n",
       "      <td>2014</td>\n",
       "      <td>2014</td>\n",
       "      <td>F</td>\n",
       "      <td>6-8</td>\n",
       "      <td>235</td>\n",
       "      <td>April 7, 1992</td>\n",
       "      <td>University of North Texas</td>\n",
       "    </tr>\n",
       "  </tbody>\n",
       "</table>\n",
       "</div>"
      ],
      "text/plain": [
       "            Player Place_of_Birth   Race  From    To Pos   Ht   Wt  \\\n",
       "363  Tony Mitchell        Georgia  Black  2014  2014   F  6-6  216   \n",
       "364  Tony Mitchell      Wisconsin  Black  2014  2014   F  6-8  235   \n",
       "\n",
       "         Birth Date                    College  \n",
       "363  August 7, 1989      University of Alabama  \n",
       "364   April 7, 1992  University of North Texas  "
      ]
     },
     "execution_count": 14,
     "metadata": {},
     "output_type": "execute_result"
    }
   ],
   "source": [
    "player_cv_13_14[player_cv_13_14['Player']=='Tony Mitchell']"
   ]
  },
  {
   "cell_type": "code",
   "execution_count": 15,
   "metadata": {},
   "outputs": [],
   "source": [
    "player_cv_13_14.iloc[363, 0] = 'Tony Mitchell 24'\n",
    "player_cv_13_14.iloc[364, 0] = 'Tony Mitchell 21'"
   ]
  },
  {
   "cell_type": "code",
   "execution_count": 16,
   "metadata": {},
   "outputs": [
    {
     "data": {
      "text/html": [
       "<div>\n",
       "<style scoped>\n",
       "    .dataframe tbody tr th:only-of-type {\n",
       "        vertical-align: middle;\n",
       "    }\n",
       "\n",
       "    .dataframe tbody tr th {\n",
       "        vertical-align: top;\n",
       "    }\n",
       "\n",
       "    .dataframe thead th {\n",
       "        text-align: right;\n",
       "    }\n",
       "</style>\n",
       "<table border=\"1\" class=\"dataframe\">\n",
       "  <thead>\n",
       "    <tr style=\"text-align: right;\">\n",
       "      <th></th>\n",
       "      <th>Player</th>\n",
       "      <th>Place_of_Birth</th>\n",
       "      <th>Race</th>\n",
       "      <th>From</th>\n",
       "      <th>To</th>\n",
       "      <th>Pos</th>\n",
       "      <th>Ht</th>\n",
       "      <th>Wt</th>\n",
       "      <th>Birth Date</th>\n",
       "      <th>College</th>\n",
       "    </tr>\n",
       "  </thead>\n",
       "  <tbody>\n",
       "    <tr>\n",
       "      <th>363</th>\n",
       "      <td>Tony Mitchell 24</td>\n",
       "      <td>Georgia</td>\n",
       "      <td>Black</td>\n",
       "      <td>2014</td>\n",
       "      <td>2014</td>\n",
       "      <td>F</td>\n",
       "      <td>6-6</td>\n",
       "      <td>216</td>\n",
       "      <td>August 7, 1989</td>\n",
       "      <td>University of Alabama</td>\n",
       "    </tr>\n",
       "    <tr>\n",
       "      <th>364</th>\n",
       "      <td>Tony Mitchell 21</td>\n",
       "      <td>Wisconsin</td>\n",
       "      <td>Black</td>\n",
       "      <td>2014</td>\n",
       "      <td>2014</td>\n",
       "      <td>F</td>\n",
       "      <td>6-8</td>\n",
       "      <td>235</td>\n",
       "      <td>April 7, 1992</td>\n",
       "      <td>University of North Texas</td>\n",
       "    </tr>\n",
       "  </tbody>\n",
       "</table>\n",
       "</div>"
      ],
      "text/plain": [
       "               Player Place_of_Birth   Race  From    To Pos   Ht   Wt  \\\n",
       "363  Tony Mitchell 24        Georgia  Black  2014  2014   F  6-6  216   \n",
       "364  Tony Mitchell 21      Wisconsin  Black  2014  2014   F  6-8  235   \n",
       "\n",
       "         Birth Date                    College  \n",
       "363  August 7, 1989      University of Alabama  \n",
       "364   April 7, 1992  University of North Texas  "
      ]
     },
     "execution_count": 16,
     "metadata": {},
     "output_type": "execute_result"
    }
   ],
   "source": [
    "player_cv_13_14.iloc[[363,364]]"
   ]
  },
  {
   "cell_type": "markdown",
   "metadata": {},
   "source": [
    "Check which ```Chris Johnson``` is in previous table ```player_stat```."
   ]
  },
  {
   "cell_type": "code",
   "execution_count": 17,
   "metadata": {},
   "outputs": [
    {
     "data": {
      "text/html": [
       "<div>\n",
       "<style scoped>\n",
       "    .dataframe tbody tr th:only-of-type {\n",
       "        vertical-align: middle;\n",
       "    }\n",
       "\n",
       "    .dataframe tbody tr th {\n",
       "        vertical-align: top;\n",
       "    }\n",
       "\n",
       "    .dataframe thead th {\n",
       "        text-align: right;\n",
       "    }\n",
       "</style>\n",
       "<table border=\"1\" class=\"dataframe\">\n",
       "  <thead>\n",
       "    <tr style=\"text-align: right;\">\n",
       "      <th></th>\n",
       "      <th>Player</th>\n",
       "      <th>Season</th>\n",
       "      <th>Age</th>\n",
       "      <th>Tm</th>\n",
       "      <th>Lg</th>\n",
       "      <th>G</th>\n",
       "      <th>GS</th>\n",
       "      <th>MP</th>\n",
       "      <th>PER</th>\n",
       "      <th>3PAr</th>\n",
       "      <th>FTr</th>\n",
       "      <th>ORB%</th>\n",
       "      <th>DRB%</th>\n",
       "      <th>TRB%</th>\n",
       "      <th>AST%</th>\n",
       "      <th>STL%</th>\n",
       "      <th>BLK%</th>\n",
       "      <th>TOV%</th>\n",
       "      <th>USG%</th>\n",
       "      <th>ORtg</th>\n",
       "      <th>DRtg</th>\n",
       "      <th>OWS</th>\n",
       "      <th>DWS</th>\n",
       "      <th>WS</th>\n",
       "      <th>WS/48</th>\n",
       "      <th>OBPM</th>\n",
       "      <th>DBPM</th>\n",
       "      <th>BPM</th>\n",
       "      <th>VORP</th>\n",
       "    </tr>\n",
       "  </thead>\n",
       "  <tbody>\n",
       "    <tr>\n",
       "      <th>235</th>\n",
       "      <td>Chris Johnson</td>\n",
       "      <td>2013-14</td>\n",
       "      <td>23.0</td>\n",
       "      <td>BOS</td>\n",
       "      <td>NBA</td>\n",
       "      <td>40</td>\n",
       "      <td>0.0</td>\n",
       "      <td>789.0</td>\n",
       "      <td>10.8</td>\n",
       "      <td>0.593</td>\n",
       "      <td>0.201</td>\n",
       "      <td>4.3</td>\n",
       "      <td>9.8</td>\n",
       "      <td>7.0</td>\n",
       "      <td>6.0</td>\n",
       "      <td>1.8</td>\n",
       "      <td>0.4</td>\n",
       "      <td>8.6</td>\n",
       "      <td>14.3</td>\n",
       "      <td>111.0</td>\n",
       "      <td>109.0</td>\n",
       "      <td>0.9</td>\n",
       "      <td>0.5</td>\n",
       "      <td>1.4</td>\n",
       "      <td>0.085</td>\n",
       "      <td>0.1</td>\n",
       "      <td>-0.9</td>\n",
       "      <td>-0.8</td>\n",
       "      <td>0.2</td>\n",
       "    </tr>\n",
       "  </tbody>\n",
       "</table>\n",
       "</div>"
      ],
      "text/plain": [
       "            Player   Season   Age   Tm   Lg   G   GS     MP   PER   3PAr  \\\n",
       "235  Chris Johnson  2013-14  23.0  BOS  NBA  40  0.0  789.0  10.8  0.593   \n",
       "\n",
       "       FTr  ORB%  DRB%  TRB%  AST%  STL%  BLK%  TOV%  USG%   ORtg   DRtg  OWS  \\\n",
       "235  0.201   4.3   9.8   7.0   6.0   1.8   0.4   8.6  14.3  111.0  109.0  0.9   \n",
       "\n",
       "     DWS   WS  WS/48  OBPM  DBPM  BPM  VORP  \n",
       "235  0.5  1.4  0.085   0.1  -0.9 -0.8   0.2  "
      ]
     },
     "execution_count": 17,
     "metadata": {},
     "output_type": "execute_result"
    }
   ],
   "source": [
    "player_stat_13_14[player_stat_13_14['Player']=='Chris Johnson']"
   ]
  },
  {
   "cell_type": "code",
   "execution_count": 18,
   "metadata": {},
   "outputs": [
    {
     "data": {
      "text/html": [
       "<div>\n",
       "<style scoped>\n",
       "    .dataframe tbody tr th:only-of-type {\n",
       "        vertical-align: middle;\n",
       "    }\n",
       "\n",
       "    .dataframe tbody tr th {\n",
       "        vertical-align: top;\n",
       "    }\n",
       "\n",
       "    .dataframe thead th {\n",
       "        text-align: right;\n",
       "    }\n",
       "</style>\n",
       "<table border=\"1\" class=\"dataframe\">\n",
       "  <thead>\n",
       "    <tr style=\"text-align: right;\">\n",
       "      <th></th>\n",
       "      <th>Player</th>\n",
       "      <th>Place_of_Birth</th>\n",
       "      <th>Race</th>\n",
       "      <th>From</th>\n",
       "      <th>To</th>\n",
       "      <th>Pos</th>\n",
       "      <th>Ht</th>\n",
       "      <th>Wt</th>\n",
       "      <th>Birth Date</th>\n",
       "      <th>College</th>\n",
       "    </tr>\n",
       "  </thead>\n",
       "  <tbody>\n",
       "    <tr>\n",
       "      <th>274</th>\n",
       "      <td>Chris Johnson</td>\n",
       "      <td>District of Columbia</td>\n",
       "      <td>Black</td>\n",
       "      <td>2011</td>\n",
       "      <td>2013</td>\n",
       "      <td>C</td>\n",
       "      <td>6-11</td>\n",
       "      <td>210</td>\n",
       "      <td>July 15, 1985</td>\n",
       "      <td>Louisiana State University</td>\n",
       "    </tr>\n",
       "    <tr>\n",
       "      <th>275</th>\n",
       "      <td>Chris Johnson</td>\n",
       "      <td>Florida</td>\n",
       "      <td>Black</td>\n",
       "      <td>2013</td>\n",
       "      <td>2016</td>\n",
       "      <td>F-G</td>\n",
       "      <td>6-6</td>\n",
       "      <td>206</td>\n",
       "      <td>April 29, 1990</td>\n",
       "      <td>University of Dayton</td>\n",
       "    </tr>\n",
       "  </tbody>\n",
       "</table>\n",
       "</div>"
      ],
      "text/plain": [
       "            Player        Place_of_Birth   Race  From    To  Pos    Ht   Wt  \\\n",
       "274  Chris Johnson  District of Columbia  Black  2011  2013    C  6-11  210   \n",
       "275  Chris Johnson               Florida  Black  2013  2016  F-G   6-6  206   \n",
       "\n",
       "         Birth Date                     College  \n",
       "274   July 15, 1985  Louisiana State University  \n",
       "275  April 29, 1990        University of Dayton  "
      ]
     },
     "execution_count": 18,
     "metadata": {},
     "output_type": "execute_result"
    }
   ],
   "source": [
    "player_cv_13_14[player_cv_13_14['Player']=='Chris Johnson']"
   ]
  },
  {
   "cell_type": "markdown",
   "metadata": {},
   "source": [
    "We delete ```Chris Johnson``` whose age is not 23."
   ]
  },
  {
   "cell_type": "code",
   "execution_count": 19,
   "metadata": {},
   "outputs": [],
   "source": [
    "player_cv_13_14 = player_cv_13_14.drop(274)"
   ]
  },
  {
   "cell_type": "code",
   "execution_count": 20,
   "metadata": {},
   "outputs": [],
   "source": [
    "player_cv_13_14 = player_cv_13_14.reset_index(drop=True)"
   ]
  },
  {
   "cell_type": "code",
   "execution_count": 21,
   "metadata": {},
   "outputs": [
    {
     "data": {
      "text/html": [
       "<div>\n",
       "<style scoped>\n",
       "    .dataframe tbody tr th:only-of-type {\n",
       "        vertical-align: middle;\n",
       "    }\n",
       "\n",
       "    .dataframe tbody tr th {\n",
       "        vertical-align: top;\n",
       "    }\n",
       "\n",
       "    .dataframe thead th {\n",
       "        text-align: right;\n",
       "    }\n",
       "</style>\n",
       "<table border=\"1\" class=\"dataframe\">\n",
       "  <thead>\n",
       "    <tr style=\"text-align: right;\">\n",
       "      <th></th>\n",
       "      <th>Player</th>\n",
       "      <th>Place_of_Birth</th>\n",
       "      <th>Race</th>\n",
       "      <th>From</th>\n",
       "      <th>To</th>\n",
       "      <th>Pos</th>\n",
       "      <th>Ht</th>\n",
       "      <th>Wt</th>\n",
       "      <th>Birth Date</th>\n",
       "      <th>College</th>\n",
       "    </tr>\n",
       "  </thead>\n",
       "  <tbody>\n",
       "    <tr>\n",
       "      <th>274</th>\n",
       "      <td>Chris Johnson</td>\n",
       "      <td>Florida</td>\n",
       "      <td>Black</td>\n",
       "      <td>2013</td>\n",
       "      <td>2016</td>\n",
       "      <td>F-G</td>\n",
       "      <td>6-6</td>\n",
       "      <td>206</td>\n",
       "      <td>April 29, 1990</td>\n",
       "      <td>University of Dayton</td>\n",
       "    </tr>\n",
       "  </tbody>\n",
       "</table>\n",
       "</div>"
      ],
      "text/plain": [
       "            Player Place_of_Birth   Race  From    To  Pos   Ht   Wt  \\\n",
       "274  Chris Johnson        Florida  Black  2013  2016  F-G  6-6  206   \n",
       "\n",
       "         Birth Date               College  \n",
       "274  April 29, 1990  University of Dayton  "
      ]
     },
     "execution_count": 21,
     "metadata": {},
     "output_type": "execute_result"
    }
   ],
   "source": [
    "player_cv_13_14[player_cv_13_14['Player']=='Chris Johnson']"
   ]
  },
  {
   "cell_type": "markdown",
   "metadata": {},
   "source": [
    "Check which ```Chris Wright``` is in previous table ```player_stat```."
   ]
  },
  {
   "cell_type": "code",
   "execution_count": 22,
   "metadata": {},
   "outputs": [
    {
     "data": {
      "text/html": [
       "<div>\n",
       "<style scoped>\n",
       "    .dataframe tbody tr th:only-of-type {\n",
       "        vertical-align: middle;\n",
       "    }\n",
       "\n",
       "    .dataframe tbody tr th {\n",
       "        vertical-align: top;\n",
       "    }\n",
       "\n",
       "    .dataframe thead th {\n",
       "        text-align: right;\n",
       "    }\n",
       "</style>\n",
       "<table border=\"1\" class=\"dataframe\">\n",
       "  <thead>\n",
       "    <tr style=\"text-align: right;\">\n",
       "      <th></th>\n",
       "      <th>Player</th>\n",
       "      <th>Season</th>\n",
       "      <th>Age</th>\n",
       "      <th>Tm</th>\n",
       "      <th>Lg</th>\n",
       "      <th>G</th>\n",
       "      <th>GS</th>\n",
       "      <th>MP</th>\n",
       "      <th>PER</th>\n",
       "      <th>3PAr</th>\n",
       "      <th>FTr</th>\n",
       "      <th>ORB%</th>\n",
       "      <th>DRB%</th>\n",
       "      <th>TRB%</th>\n",
       "      <th>AST%</th>\n",
       "      <th>STL%</th>\n",
       "      <th>BLK%</th>\n",
       "      <th>TOV%</th>\n",
       "      <th>USG%</th>\n",
       "      <th>ORtg</th>\n",
       "      <th>DRtg</th>\n",
       "      <th>OWS</th>\n",
       "      <th>DWS</th>\n",
       "      <th>WS</th>\n",
       "      <th>WS/48</th>\n",
       "      <th>OBPM</th>\n",
       "      <th>DBPM</th>\n",
       "      <th>BPM</th>\n",
       "      <th>VORP</th>\n",
       "    </tr>\n",
       "  </thead>\n",
       "  <tbody>\n",
       "    <tr>\n",
       "      <th>475</th>\n",
       "      <td>Chris Wright</td>\n",
       "      <td>2013-14</td>\n",
       "      <td>25.0</td>\n",
       "      <td>MIL</td>\n",
       "      <td>NBA</td>\n",
       "      <td>8</td>\n",
       "      <td>0.0</td>\n",
       "      <td>126.0</td>\n",
       "      <td>16.5</td>\n",
       "      <td>0.029</td>\n",
       "      <td>0.429</td>\n",
       "      <td>8.8</td>\n",
       "      <td>9.4</td>\n",
       "      <td>9.1</td>\n",
       "      <td>6.9</td>\n",
       "      <td>2.9</td>\n",
       "      <td>3.2</td>\n",
       "      <td>10.7</td>\n",
       "      <td>16.7</td>\n",
       "      <td>112.0</td>\n",
       "      <td>109.0</td>\n",
       "      <td>0.2</td>\n",
       "      <td>0.1</td>\n",
       "      <td>0.3</td>\n",
       "      <td>0.102</td>\n",
       "      <td>-0.4</td>\n",
       "      <td>0.2</td>\n",
       "      <td>-0.2</td>\n",
       "      <td>0.1</td>\n",
       "    </tr>\n",
       "  </tbody>\n",
       "</table>\n",
       "</div>"
      ],
      "text/plain": [
       "           Player   Season   Age   Tm   Lg  G   GS     MP   PER   3PAr    FTr  \\\n",
       "475  Chris Wright  2013-14  25.0  MIL  NBA  8  0.0  126.0  16.5  0.029  0.429   \n",
       "\n",
       "     ORB%  DRB%  TRB%  AST%  STL%  BLK%  TOV%  USG%   ORtg   DRtg  OWS  DWS  \\\n",
       "475   8.8   9.4   9.1   6.9   2.9   3.2  10.7  16.7  112.0  109.0  0.2  0.1   \n",
       "\n",
       "      WS  WS/48  OBPM  DBPM  BPM  VORP  \n",
       "475  0.3  0.102  -0.4   0.2 -0.2   0.1  "
      ]
     },
     "execution_count": 22,
     "metadata": {},
     "output_type": "execute_result"
    }
   ],
   "source": [
    "player_stat_13_14[player_stat_13_14['Player']=='Chris Wright']"
   ]
  },
  {
   "cell_type": "code",
   "execution_count": 23,
   "metadata": {},
   "outputs": [
    {
     "data": {
      "text/html": [
       "<div>\n",
       "<style scoped>\n",
       "    .dataframe tbody tr th:only-of-type {\n",
       "        vertical-align: middle;\n",
       "    }\n",
       "\n",
       "    .dataframe tbody tr th {\n",
       "        vertical-align: top;\n",
       "    }\n",
       "\n",
       "    .dataframe thead th {\n",
       "        text-align: right;\n",
       "    }\n",
       "</style>\n",
       "<table border=\"1\" class=\"dataframe\">\n",
       "  <thead>\n",
       "    <tr style=\"text-align: right;\">\n",
       "      <th></th>\n",
       "      <th>Player</th>\n",
       "      <th>Place_of_Birth</th>\n",
       "      <th>Race</th>\n",
       "      <th>From</th>\n",
       "      <th>To</th>\n",
       "      <th>Pos</th>\n",
       "      <th>Ht</th>\n",
       "      <th>Wt</th>\n",
       "      <th>Birth Date</th>\n",
       "      <th>College</th>\n",
       "    </tr>\n",
       "  </thead>\n",
       "  <tbody>\n",
       "    <tr>\n",
       "      <th>563</th>\n",
       "      <td>Chris Wright</td>\n",
       "      <td>Ohio</td>\n",
       "      <td>Black</td>\n",
       "      <td>2012</td>\n",
       "      <td>2014</td>\n",
       "      <td>F</td>\n",
       "      <td>6-8</td>\n",
       "      <td>226</td>\n",
       "      <td>September 30, 1988</td>\n",
       "      <td>University of Dayton</td>\n",
       "    </tr>\n",
       "    <tr>\n",
       "      <th>564</th>\n",
       "      <td>Chris Wright</td>\n",
       "      <td>District of Columbia</td>\n",
       "      <td>Black</td>\n",
       "      <td>2013</td>\n",
       "      <td>2013</td>\n",
       "      <td>G</td>\n",
       "      <td>6-1</td>\n",
       "      <td>210</td>\n",
       "      <td>November 4, 1989</td>\n",
       "      <td>Georgetown University</td>\n",
       "    </tr>\n",
       "  </tbody>\n",
       "</table>\n",
       "</div>"
      ],
      "text/plain": [
       "           Player        Place_of_Birth   Race  From    To Pos   Ht   Wt  \\\n",
       "563  Chris Wright                  Ohio  Black  2012  2014   F  6-8  226   \n",
       "564  Chris Wright  District of Columbia  Black  2013  2013   G  6-1  210   \n",
       "\n",
       "             Birth Date                College  \n",
       "563  September 30, 1988   University of Dayton  \n",
       "564    November 4, 1989  Georgetown University  "
      ]
     },
     "execution_count": 23,
     "metadata": {},
     "output_type": "execute_result"
    }
   ],
   "source": [
    "player_cv_13_14[player_cv_13_14['Player']=='Chris Wright']"
   ]
  },
  {
   "cell_type": "markdown",
   "metadata": {},
   "source": [
    "By checking Wikipedia, we delete ```Chris Wright``` who is born in 1989."
   ]
  },
  {
   "cell_type": "code",
   "execution_count": 24,
   "metadata": {},
   "outputs": [],
   "source": [
    "player_cv_13_14 = player_cv_13_14.drop(564)"
   ]
  },
  {
   "cell_type": "code",
   "execution_count": 25,
   "metadata": {},
   "outputs": [],
   "source": [
    "player_cv_13_14 = player_cv_13_14.reset_index(drop=True)"
   ]
  },
  {
   "cell_type": "code",
   "execution_count": 26,
   "metadata": {},
   "outputs": [
    {
     "data": {
      "text/html": [
       "<div>\n",
       "<style scoped>\n",
       "    .dataframe tbody tr th:only-of-type {\n",
       "        vertical-align: middle;\n",
       "    }\n",
       "\n",
       "    .dataframe tbody tr th {\n",
       "        vertical-align: top;\n",
       "    }\n",
       "\n",
       "    .dataframe thead th {\n",
       "        text-align: right;\n",
       "    }\n",
       "</style>\n",
       "<table border=\"1\" class=\"dataframe\">\n",
       "  <thead>\n",
       "    <tr style=\"text-align: right;\">\n",
       "      <th></th>\n",
       "      <th>Player</th>\n",
       "      <th>Place_of_Birth</th>\n",
       "      <th>Race</th>\n",
       "      <th>From</th>\n",
       "      <th>To</th>\n",
       "      <th>Pos</th>\n",
       "      <th>Ht</th>\n",
       "      <th>Wt</th>\n",
       "      <th>Birth Date</th>\n",
       "      <th>College</th>\n",
       "    </tr>\n",
       "  </thead>\n",
       "  <tbody>\n",
       "    <tr>\n",
       "      <th>563</th>\n",
       "      <td>Chris Wright</td>\n",
       "      <td>Ohio</td>\n",
       "      <td>Black</td>\n",
       "      <td>2012</td>\n",
       "      <td>2014</td>\n",
       "      <td>F</td>\n",
       "      <td>6-8</td>\n",
       "      <td>226</td>\n",
       "      <td>September 30, 1988</td>\n",
       "      <td>University of Dayton</td>\n",
       "    </tr>\n",
       "  </tbody>\n",
       "</table>\n",
       "</div>"
      ],
      "text/plain": [
       "           Player Place_of_Birth   Race  From    To Pos   Ht   Wt  \\\n",
       "563  Chris Wright           Ohio  Black  2012  2014   F  6-8  226   \n",
       "\n",
       "             Birth Date               College  \n",
       "563  September 30, 1988  University of Dayton  "
      ]
     },
     "execution_count": 26,
     "metadata": {},
     "output_type": "execute_result"
    }
   ],
   "source": [
    "player_cv_13_14[player_cv_13_14['Player']=='Chris Wright']"
   ]
  },
  {
   "cell_type": "markdown",
   "metadata": {},
   "source": [
    "Now let's see if there's still duplicated names."
   ]
  },
  {
   "cell_type": "code",
   "execution_count": 27,
   "metadata": {},
   "outputs": [
    {
     "data": {
      "text/plain": [
       "True"
      ]
     },
     "execution_count": 27,
     "metadata": {},
     "output_type": "execute_result"
    }
   ],
   "source": [
    "len(player_cv_13_14['Player'].value_counts()) == player_cv_13_14.shape[0]"
   ]
  },
  {
   "cell_type": "markdown",
   "metadata": {},
   "source": [
    "### Merge these two"
   ]
  },
  {
   "cell_type": "code",
   "execution_count": 28,
   "metadata": {},
   "outputs": [],
   "source": [
    "merge_stat_cv = pd.merge(player_stat_13_14, player_cv_13_14, left_on='Player', right_on='Player', how='inner')"
   ]
  },
  {
   "cell_type": "code",
   "execution_count": 29,
   "metadata": {},
   "outputs": [
    {
     "data": {
      "text/plain": [
       "482"
      ]
     },
     "execution_count": 29,
     "metadata": {},
     "output_type": "execute_result"
    }
   ],
   "source": [
    "merge_stat_cv.shape[0]"
   ]
  },
  {
   "cell_type": "code",
   "execution_count": 30,
   "metadata": {},
   "outputs": [
    {
     "data": {
      "text/plain": [
       "482"
      ]
     },
     "execution_count": 30,
     "metadata": {},
     "output_type": "execute_result"
    }
   ],
   "source": [
    "player_stat_13_14.shape[0]"
   ]
  },
  {
   "cell_type": "code",
   "execution_count": 31,
   "metadata": {},
   "outputs": [
    {
     "data": {
      "text/plain": [
       "572"
      ]
     },
     "execution_count": 31,
     "metadata": {},
     "output_type": "execute_result"
    }
   ],
   "source": [
    "player_cv_13_14.shape[0]"
   ]
  },
  {
   "cell_type": "code",
   "execution_count": 32,
   "metadata": {},
   "outputs": [
    {
     "data": {
      "text/plain": [
       "True"
      ]
     },
     "execution_count": 32,
     "metadata": {},
     "output_type": "execute_result"
    }
   ],
   "source": [
    "merge_stat_cv.shape[0] == player_stat_13_14.shape[0]"
   ]
  },
  {
   "cell_type": "markdown",
   "metadata": {},
   "source": [
    "<div class=\"alert alert-success\">\n",
    "\n",
    "- Comment: $\\{$player $P$: $P \\in$ player_stat_13_14$\\}$  $\\subseteq$ \\{ player $P$: $P \\in$ player_cv_13_14 \\}"
   ]
  },
  {
   "cell_type": "markdown",
   "metadata": {},
   "source": [
    "### Get 2013-2014 data for player_salary"
   ]
  },
  {
   "cell_type": "code",
   "execution_count": 33,
   "metadata": {},
   "outputs": [],
   "source": [
    "player_salary_13_14 = player_salary[player_salary['SEASON'] == '2013-2014']\n",
    "player_salary_13_14 = player_salary_13_14.reset_index(drop=True)"
   ]
  },
  {
   "cell_type": "code",
   "execution_count": 34,
   "metadata": {},
   "outputs": [
    {
     "data": {
      "text/plain": [
       "(388, 5)"
      ]
     },
     "execution_count": 34,
     "metadata": {},
     "output_type": "execute_result"
    }
   ],
   "source": [
    "player_salary_13_14.shape"
   ]
  },
  {
   "cell_type": "code",
   "execution_count": 35,
   "metadata": {},
   "outputs": [
    {
     "data": {
      "text/html": [
       "<div>\n",
       "<style scoped>\n",
       "    .dataframe tbody tr th:only-of-type {\n",
       "        vertical-align: middle;\n",
       "    }\n",
       "\n",
       "    .dataframe tbody tr th {\n",
       "        vertical-align: top;\n",
       "    }\n",
       "\n",
       "    .dataframe thead th {\n",
       "        text-align: right;\n",
       "    }\n",
       "</style>\n",
       "<table border=\"1\" class=\"dataframe\">\n",
       "  <thead>\n",
       "    <tr style=\"text-align: right;\">\n",
       "      <th></th>\n",
       "      <th>SEASON</th>\n",
       "      <th>RK</th>\n",
       "      <th>NAME</th>\n",
       "      <th>TEAM</th>\n",
       "      <th>SALARY</th>\n",
       "    </tr>\n",
       "  </thead>\n",
       "  <tbody>\n",
       "    <tr>\n",
       "      <th>0</th>\n",
       "      <td>2013-2014</td>\n",
       "      <td>41</td>\n",
       "      <td>Al Horford, C</td>\n",
       "      <td>Atlanta Hawks</td>\n",
       "      <td>12000000</td>\n",
       "    </tr>\n",
       "    <tr>\n",
       "      <th>1</th>\n",
       "      <td>2013-2014</td>\n",
       "      <td>58</td>\n",
       "      <td>Paul Millsap, PF</td>\n",
       "      <td>Atlanta Hawks</td>\n",
       "      <td>9500000</td>\n",
       "    </tr>\n",
       "    <tr>\n",
       "      <th>2</th>\n",
       "      <td>2013-2014</td>\n",
       "      <td>74</td>\n",
       "      <td>Jeff Teague, PG</td>\n",
       "      <td>Atlanta Hawks</td>\n",
       "      <td>8000000</td>\n",
       "    </tr>\n",
       "  </tbody>\n",
       "</table>\n",
       "</div>"
      ],
      "text/plain": [
       "      SEASON  RK              NAME           TEAM    SALARY\n",
       "0  2013-2014  41     Al Horford, C  Atlanta Hawks  12000000\n",
       "1  2013-2014  58  Paul Millsap, PF  Atlanta Hawks   9500000\n",
       "2  2013-2014  74   Jeff Teague, PG  Atlanta Hawks   8000000"
      ]
     },
     "execution_count": 35,
     "metadata": {},
     "output_type": "execute_result"
    }
   ],
   "source": [
    "player_salary_13_14.head(3)"
   ]
  },
  {
   "cell_type": "markdown",
   "metadata": {},
   "source": [
    "Check the 3 duplicated names in ```player_cv``` table."
   ]
  },
  {
   "cell_type": "code",
   "execution_count": 36,
   "metadata": {},
   "outputs": [
    {
     "data": {
      "text/html": [
       "<div>\n",
       "<style scoped>\n",
       "    .dataframe tbody tr th:only-of-type {\n",
       "        vertical-align: middle;\n",
       "    }\n",
       "\n",
       "    .dataframe tbody tr th {\n",
       "        vertical-align: top;\n",
       "    }\n",
       "\n",
       "    .dataframe thead th {\n",
       "        text-align: right;\n",
       "    }\n",
       "</style>\n",
       "<table border=\"1\" class=\"dataframe\">\n",
       "  <thead>\n",
       "    <tr style=\"text-align: right;\">\n",
       "      <th></th>\n",
       "      <th>SEASON</th>\n",
       "      <th>RK</th>\n",
       "      <th>NAME</th>\n",
       "      <th>TEAM</th>\n",
       "      <th>SALARY</th>\n",
       "    </tr>\n",
       "  </thead>\n",
       "  <tbody>\n",
       "    <tr>\n",
       "      <th>114</th>\n",
       "      <td>2013-2014</td>\n",
       "      <td>346</td>\n",
       "      <td>Tony Mitchell, PF</td>\n",
       "      <td>Detroit Pistons</td>\n",
       "      <td>500000</td>\n",
       "    </tr>\n",
       "  </tbody>\n",
       "</table>\n",
       "</div>"
      ],
      "text/plain": [
       "        SEASON   RK               NAME             TEAM  SALARY\n",
       "114  2013-2014  346  Tony Mitchell, PF  Detroit Pistons  500000"
      ]
     },
     "execution_count": 36,
     "metadata": {},
     "output_type": "execute_result"
    }
   ],
   "source": [
    "player_salary_13_14[player_salary_13_14['NAME'].str.contains('Tony Mitchell')]"
   ]
  },
  {
   "cell_type": "code",
   "execution_count": 37,
   "metadata": {},
   "outputs": [
    {
     "data": {
      "text/html": [
       "<div>\n",
       "<style scoped>\n",
       "    .dataframe tbody tr th:only-of-type {\n",
       "        vertical-align: middle;\n",
       "    }\n",
       "\n",
       "    .dataframe tbody tr th {\n",
       "        vertical-align: top;\n",
       "    }\n",
       "\n",
       "    .dataframe thead th {\n",
       "        text-align: right;\n",
       "    }\n",
       "</style>\n",
       "<table border=\"1\" class=\"dataframe\">\n",
       "  <thead>\n",
       "    <tr style=\"text-align: right;\">\n",
       "      <th></th>\n",
       "      <th>Player</th>\n",
       "      <th>Season</th>\n",
       "      <th>Age</th>\n",
       "      <th>Tm</th>\n",
       "      <th>Lg</th>\n",
       "      <th>G</th>\n",
       "      <th>GS</th>\n",
       "      <th>MP</th>\n",
       "      <th>PER</th>\n",
       "      <th>3PAr</th>\n",
       "      <th>FTr</th>\n",
       "      <th>ORB%</th>\n",
       "      <th>DRB%</th>\n",
       "      <th>TRB%</th>\n",
       "      <th>AST%</th>\n",
       "      <th>STL%</th>\n",
       "      <th>BLK%</th>\n",
       "      <th>TOV%</th>\n",
       "      <th>USG%</th>\n",
       "      <th>ORtg</th>\n",
       "      <th>DRtg</th>\n",
       "      <th>OWS</th>\n",
       "      <th>DWS</th>\n",
       "      <th>WS</th>\n",
       "      <th>WS/48</th>\n",
       "      <th>OBPM</th>\n",
       "      <th>DBPM</th>\n",
       "      <th>BPM</th>\n",
       "      <th>VORP</th>\n",
       "      <th>Place_of_Birth</th>\n",
       "      <th>Race</th>\n",
       "      <th>From</th>\n",
       "      <th>To</th>\n",
       "      <th>Pos</th>\n",
       "      <th>Ht</th>\n",
       "      <th>Wt</th>\n",
       "      <th>Birth Date</th>\n",
       "      <th>College</th>\n",
       "    </tr>\n",
       "  </thead>\n",
       "  <tbody>\n",
       "    <tr>\n",
       "      <th>308</th>\n",
       "      <td>Tony Mitchell 24</td>\n",
       "      <td>2013-14</td>\n",
       "      <td>24.0</td>\n",
       "      <td>MIL</td>\n",
       "      <td>NBA</td>\n",
       "      <td>3</td>\n",
       "      <td>0.0</td>\n",
       "      <td>10.0</td>\n",
       "      <td>30.9</td>\n",
       "      <td>0.200</td>\n",
       "      <td>0.000</td>\n",
       "      <td>11.1</td>\n",
       "      <td>0.0</td>\n",
       "      <td>5.7</td>\n",
       "      <td>22.6</td>\n",
       "      <td>5.2</td>\n",
       "      <td>0.0</td>\n",
       "      <td>0.0</td>\n",
       "      <td>22.6</td>\n",
       "      <td>132.0</td>\n",
       "      <td>109.0</td>\n",
       "      <td>0.0</td>\n",
       "      <td>0.0</td>\n",
       "      <td>0.1</td>\n",
       "      <td>0.242</td>\n",
       "      <td>8.6</td>\n",
       "      <td>-2.1</td>\n",
       "      <td>6.5</td>\n",
       "      <td>0.0</td>\n",
       "      <td>Georgia</td>\n",
       "      <td>Black</td>\n",
       "      <td>2014</td>\n",
       "      <td>2014</td>\n",
       "      <td>F</td>\n",
       "      <td>6-6</td>\n",
       "      <td>216</td>\n",
       "      <td>August 7, 1989</td>\n",
       "      <td>University of Alabama</td>\n",
       "    </tr>\n",
       "    <tr>\n",
       "      <th>309</th>\n",
       "      <td>Tony Mitchell 21</td>\n",
       "      <td>2013-14</td>\n",
       "      <td>21.0</td>\n",
       "      <td>DET</td>\n",
       "      <td>NBA</td>\n",
       "      <td>21</td>\n",
       "      <td>0.0</td>\n",
       "      <td>79.0</td>\n",
       "      <td>18.1</td>\n",
       "      <td>0.083</td>\n",
       "      <td>1.583</td>\n",
       "      <td>19.7</td>\n",
       "      <td>16.0</td>\n",
       "      <td>18.0</td>\n",
       "      <td>3.4</td>\n",
       "      <td>3.8</td>\n",
       "      <td>3.0</td>\n",
       "      <td>16.4</td>\n",
       "      <td>13.2</td>\n",
       "      <td>117.0</td>\n",
       "      <td>104.0</td>\n",
       "      <td>0.1</td>\n",
       "      <td>0.1</td>\n",
       "      <td>0.2</td>\n",
       "      <td>0.151</td>\n",
       "      <td>-0.1</td>\n",
       "      <td>1.4</td>\n",
       "      <td>1.3</td>\n",
       "      <td>0.1</td>\n",
       "      <td>Wisconsin</td>\n",
       "      <td>Black</td>\n",
       "      <td>2014</td>\n",
       "      <td>2014</td>\n",
       "      <td>F</td>\n",
       "      <td>6-8</td>\n",
       "      <td>235</td>\n",
       "      <td>April 7, 1992</td>\n",
       "      <td>University of North Texas</td>\n",
       "    </tr>\n",
       "  </tbody>\n",
       "</table>\n",
       "</div>"
      ],
      "text/plain": [
       "               Player   Season   Age   Tm   Lg   G   GS    MP   PER   3PAr  \\\n",
       "308  Tony Mitchell 24  2013-14  24.0  MIL  NBA   3  0.0  10.0  30.9  0.200   \n",
       "309  Tony Mitchell 21  2013-14  21.0  DET  NBA  21  0.0  79.0  18.1  0.083   \n",
       "\n",
       "       FTr  ORB%  DRB%  TRB%  AST%  STL%  BLK%  TOV%  USG%   ORtg   DRtg  OWS  \\\n",
       "308  0.000  11.1   0.0   5.7  22.6   5.2   0.0   0.0  22.6  132.0  109.0  0.0   \n",
       "309  1.583  19.7  16.0  18.0   3.4   3.8   3.0  16.4  13.2  117.0  104.0  0.1   \n",
       "\n",
       "     DWS   WS  WS/48  OBPM  DBPM  BPM  VORP Place_of_Birth   Race  From    To  \\\n",
       "308  0.0  0.1  0.242   8.6  -2.1  6.5   0.0        Georgia  Black  2014  2014   \n",
       "309  0.1  0.2  0.151  -0.1   1.4  1.3   0.1      Wisconsin  Black  2014  2014   \n",
       "\n",
       "    Pos   Ht   Wt      Birth Date                    College  \n",
       "308   F  6-6  216  August 7, 1989      University of Alabama  \n",
       "309   F  6-8  235   April 7, 1992  University of North Texas  "
      ]
     },
     "execution_count": 37,
     "metadata": {},
     "output_type": "execute_result"
    }
   ],
   "source": [
    "merge_stat_cv[merge_stat_cv['Player'].str.contains('Tony Mitchell')]"
   ]
  },
  {
   "cell_type": "code",
   "execution_count": 38,
   "metadata": {},
   "outputs": [],
   "source": [
    "player_salary_13_14.iloc[114, 2] = 'Tony Mitchell 21, PF'"
   ]
  },
  {
   "cell_type": "code",
   "execution_count": 39,
   "metadata": {},
   "outputs": [
    {
     "data": {
      "text/html": [
       "<div>\n",
       "<style scoped>\n",
       "    .dataframe tbody tr th:only-of-type {\n",
       "        vertical-align: middle;\n",
       "    }\n",
       "\n",
       "    .dataframe tbody tr th {\n",
       "        vertical-align: top;\n",
       "    }\n",
       "\n",
       "    .dataframe thead th {\n",
       "        text-align: right;\n",
       "    }\n",
       "</style>\n",
       "<table border=\"1\" class=\"dataframe\">\n",
       "  <thead>\n",
       "    <tr style=\"text-align: right;\">\n",
       "      <th></th>\n",
       "      <th>SEASON</th>\n",
       "      <th>RK</th>\n",
       "      <th>NAME</th>\n",
       "      <th>TEAM</th>\n",
       "      <th>SALARY</th>\n",
       "    </tr>\n",
       "  </thead>\n",
       "  <tbody>\n",
       "    <tr>\n",
       "      <th>114</th>\n",
       "      <td>2013-2014</td>\n",
       "      <td>346</td>\n",
       "      <td>Tony Mitchell 21, PF</td>\n",
       "      <td>Detroit Pistons</td>\n",
       "      <td>500000</td>\n",
       "    </tr>\n",
       "  </tbody>\n",
       "</table>\n",
       "</div>"
      ],
      "text/plain": [
       "        SEASON   RK                  NAME             TEAM  SALARY\n",
       "114  2013-2014  346  Tony Mitchell 21, PF  Detroit Pistons  500000"
      ]
     },
     "execution_count": 39,
     "metadata": {},
     "output_type": "execute_result"
    }
   ],
   "source": [
    "player_salary_13_14[player_salary_13_14['NAME'].str.contains('Tony Mitchell')]"
   ]
  },
  {
   "cell_type": "code",
   "execution_count": 40,
   "metadata": {},
   "outputs": [
    {
     "data": {
      "text/html": [
       "<div>\n",
       "<style scoped>\n",
       "    .dataframe tbody tr th:only-of-type {\n",
       "        vertical-align: middle;\n",
       "    }\n",
       "\n",
       "    .dataframe tbody tr th {\n",
       "        vertical-align: top;\n",
       "    }\n",
       "\n",
       "    .dataframe thead th {\n",
       "        text-align: right;\n",
       "    }\n",
       "</style>\n",
       "<table border=\"1\" class=\"dataframe\">\n",
       "  <thead>\n",
       "    <tr style=\"text-align: right;\">\n",
       "      <th></th>\n",
       "      <th>SEASON</th>\n",
       "      <th>RK</th>\n",
       "      <th>NAME</th>\n",
       "      <th>TEAM</th>\n",
       "      <th>SALARY</th>\n",
       "    </tr>\n",
       "  </thead>\n",
       "  <tbody>\n",
       "    <tr>\n",
       "      <th>23</th>\n",
       "      <td>2013-2014</td>\n",
       "      <td>361</td>\n",
       "      <td>Chris Johnson, SF</td>\n",
       "      <td>Boston Celtics</td>\n",
       "      <td>320189</td>\n",
       "    </tr>\n",
       "  </tbody>\n",
       "</table>\n",
       "</div>"
      ],
      "text/plain": [
       "       SEASON   RK               NAME            TEAM  SALARY\n",
       "23  2013-2014  361  Chris Johnson, SF  Boston Celtics  320189"
      ]
     },
     "execution_count": 40,
     "metadata": {},
     "output_type": "execute_result"
    }
   ],
   "source": [
    "player_salary_13_14[player_salary_13_14['NAME'].str.contains('Chris Johnson')]"
   ]
  },
  {
   "cell_type": "code",
   "execution_count": 41,
   "metadata": {},
   "outputs": [
    {
     "data": {
      "text/html": [
       "<div>\n",
       "<style scoped>\n",
       "    .dataframe tbody tr th:only-of-type {\n",
       "        vertical-align: middle;\n",
       "    }\n",
       "\n",
       "    .dataframe tbody tr th {\n",
       "        vertical-align: top;\n",
       "    }\n",
       "\n",
       "    .dataframe thead th {\n",
       "        text-align: right;\n",
       "    }\n",
       "</style>\n",
       "<table border=\"1\" class=\"dataframe\">\n",
       "  <thead>\n",
       "    <tr style=\"text-align: right;\">\n",
       "      <th></th>\n",
       "      <th>Player</th>\n",
       "      <th>Season</th>\n",
       "      <th>Age</th>\n",
       "      <th>Tm</th>\n",
       "      <th>Lg</th>\n",
       "      <th>G</th>\n",
       "      <th>GS</th>\n",
       "      <th>MP</th>\n",
       "      <th>PER</th>\n",
       "      <th>3PAr</th>\n",
       "      <th>FTr</th>\n",
       "      <th>ORB%</th>\n",
       "      <th>DRB%</th>\n",
       "      <th>TRB%</th>\n",
       "      <th>AST%</th>\n",
       "      <th>STL%</th>\n",
       "      <th>BLK%</th>\n",
       "      <th>TOV%</th>\n",
       "      <th>USG%</th>\n",
       "      <th>ORtg</th>\n",
       "      <th>DRtg</th>\n",
       "      <th>OWS</th>\n",
       "      <th>DWS</th>\n",
       "      <th>WS</th>\n",
       "      <th>WS/48</th>\n",
       "      <th>OBPM</th>\n",
       "      <th>DBPM</th>\n",
       "      <th>BPM</th>\n",
       "      <th>VORP</th>\n",
       "      <th>Place_of_Birth</th>\n",
       "      <th>Race</th>\n",
       "      <th>From</th>\n",
       "      <th>To</th>\n",
       "      <th>Pos</th>\n",
       "      <th>Ht</th>\n",
       "      <th>Wt</th>\n",
       "      <th>Birth Date</th>\n",
       "      <th>College</th>\n",
       "    </tr>\n",
       "  </thead>\n",
       "  <tbody>\n",
       "    <tr>\n",
       "      <th>235</th>\n",
       "      <td>Chris Johnson</td>\n",
       "      <td>2013-14</td>\n",
       "      <td>23.0</td>\n",
       "      <td>BOS</td>\n",
       "      <td>NBA</td>\n",
       "      <td>40</td>\n",
       "      <td>0.0</td>\n",
       "      <td>789.0</td>\n",
       "      <td>10.8</td>\n",
       "      <td>0.593</td>\n",
       "      <td>0.201</td>\n",
       "      <td>4.3</td>\n",
       "      <td>9.8</td>\n",
       "      <td>7.0</td>\n",
       "      <td>6.0</td>\n",
       "      <td>1.8</td>\n",
       "      <td>0.4</td>\n",
       "      <td>8.6</td>\n",
       "      <td>14.3</td>\n",
       "      <td>111.0</td>\n",
       "      <td>109.0</td>\n",
       "      <td>0.9</td>\n",
       "      <td>0.5</td>\n",
       "      <td>1.4</td>\n",
       "      <td>0.085</td>\n",
       "      <td>0.1</td>\n",
       "      <td>-0.9</td>\n",
       "      <td>-0.8</td>\n",
       "      <td>0.2</td>\n",
       "      <td>Florida</td>\n",
       "      <td>Black</td>\n",
       "      <td>2013</td>\n",
       "      <td>2016</td>\n",
       "      <td>F-G</td>\n",
       "      <td>6-6</td>\n",
       "      <td>206</td>\n",
       "      <td>April 29, 1990</td>\n",
       "      <td>University of Dayton</td>\n",
       "    </tr>\n",
       "  </tbody>\n",
       "</table>\n",
       "</div>"
      ],
      "text/plain": [
       "            Player   Season   Age   Tm   Lg   G   GS     MP   PER   3PAr  \\\n",
       "235  Chris Johnson  2013-14  23.0  BOS  NBA  40  0.0  789.0  10.8  0.593   \n",
       "\n",
       "       FTr  ORB%  DRB%  TRB%  AST%  STL%  BLK%  TOV%  USG%   ORtg   DRtg  OWS  \\\n",
       "235  0.201   4.3   9.8   7.0   6.0   1.8   0.4   8.6  14.3  111.0  109.0  0.9   \n",
       "\n",
       "     DWS   WS  WS/48  OBPM  DBPM  BPM  VORP Place_of_Birth   Race  From    To  \\\n",
       "235  0.5  1.4  0.085   0.1  -0.9 -0.8   0.2        Florida  Black  2013  2016   \n",
       "\n",
       "     Pos   Ht   Wt      Birth Date               College  \n",
       "235  F-G  6-6  206  April 29, 1990  University of Dayton  "
      ]
     },
     "execution_count": 41,
     "metadata": {},
     "output_type": "execute_result"
    }
   ],
   "source": [
    "merge_stat_cv[merge_stat_cv['Player'].str.contains('Chris Johnson')]"
   ]
  },
  {
   "cell_type": "code",
   "execution_count": 42,
   "metadata": {},
   "outputs": [
    {
     "data": {
      "text/html": [
       "<div>\n",
       "<style scoped>\n",
       "    .dataframe tbody tr th:only-of-type {\n",
       "        vertical-align: middle;\n",
       "    }\n",
       "\n",
       "    .dataframe tbody tr th {\n",
       "        vertical-align: top;\n",
       "    }\n",
       "\n",
       "    .dataframe thead th {\n",
       "        text-align: right;\n",
       "    }\n",
       "</style>\n",
       "<table border=\"1\" class=\"dataframe\">\n",
       "  <thead>\n",
       "    <tr style=\"text-align: right;\">\n",
       "      <th></th>\n",
       "      <th>SEASON</th>\n",
       "      <th>RK</th>\n",
       "      <th>NAME</th>\n",
       "      <th>TEAM</th>\n",
       "      <th>SALARY</th>\n",
       "    </tr>\n",
       "  </thead>\n",
       "  <tbody>\n",
       "    <tr>\n",
       "      <th>216</th>\n",
       "      <td>2013-2014</td>\n",
       "      <td>387</td>\n",
       "      <td>Chris Wright, SF</td>\n",
       "      <td>Milwaukee Bucks</td>\n",
       "      <td>9281</td>\n",
       "    </tr>\n",
       "  </tbody>\n",
       "</table>\n",
       "</div>"
      ],
      "text/plain": [
       "        SEASON   RK              NAME             TEAM  SALARY\n",
       "216  2013-2014  387  Chris Wright, SF  Milwaukee Bucks    9281"
      ]
     },
     "execution_count": 42,
     "metadata": {},
     "output_type": "execute_result"
    }
   ],
   "source": [
    "player_salary_13_14[player_salary_13_14['NAME'].str.contains('Chris Wright')]"
   ]
  },
  {
   "cell_type": "code",
   "execution_count": 43,
   "metadata": {},
   "outputs": [
    {
     "data": {
      "text/html": [
       "<div>\n",
       "<style scoped>\n",
       "    .dataframe tbody tr th:only-of-type {\n",
       "        vertical-align: middle;\n",
       "    }\n",
       "\n",
       "    .dataframe tbody tr th {\n",
       "        vertical-align: top;\n",
       "    }\n",
       "\n",
       "    .dataframe thead th {\n",
       "        text-align: right;\n",
       "    }\n",
       "</style>\n",
       "<table border=\"1\" class=\"dataframe\">\n",
       "  <thead>\n",
       "    <tr style=\"text-align: right;\">\n",
       "      <th></th>\n",
       "      <th>Player</th>\n",
       "      <th>Season</th>\n",
       "      <th>Age</th>\n",
       "      <th>Tm</th>\n",
       "      <th>Lg</th>\n",
       "      <th>G</th>\n",
       "      <th>GS</th>\n",
       "      <th>MP</th>\n",
       "      <th>PER</th>\n",
       "      <th>3PAr</th>\n",
       "      <th>FTr</th>\n",
       "      <th>ORB%</th>\n",
       "      <th>DRB%</th>\n",
       "      <th>TRB%</th>\n",
       "      <th>AST%</th>\n",
       "      <th>STL%</th>\n",
       "      <th>BLK%</th>\n",
       "      <th>TOV%</th>\n",
       "      <th>USG%</th>\n",
       "      <th>ORtg</th>\n",
       "      <th>DRtg</th>\n",
       "      <th>OWS</th>\n",
       "      <th>DWS</th>\n",
       "      <th>WS</th>\n",
       "      <th>WS/48</th>\n",
       "      <th>OBPM</th>\n",
       "      <th>DBPM</th>\n",
       "      <th>BPM</th>\n",
       "      <th>VORP</th>\n",
       "      <th>Place_of_Birth</th>\n",
       "      <th>Race</th>\n",
       "      <th>From</th>\n",
       "      <th>To</th>\n",
       "      <th>Pos</th>\n",
       "      <th>Ht</th>\n",
       "      <th>Wt</th>\n",
       "      <th>Birth Date</th>\n",
       "      <th>College</th>\n",
       "    </tr>\n",
       "  </thead>\n",
       "  <tbody>\n",
       "    <tr>\n",
       "      <th>475</th>\n",
       "      <td>Chris Wright</td>\n",
       "      <td>2013-14</td>\n",
       "      <td>25.0</td>\n",
       "      <td>MIL</td>\n",
       "      <td>NBA</td>\n",
       "      <td>8</td>\n",
       "      <td>0.0</td>\n",
       "      <td>126.0</td>\n",
       "      <td>16.5</td>\n",
       "      <td>0.029</td>\n",
       "      <td>0.429</td>\n",
       "      <td>8.8</td>\n",
       "      <td>9.4</td>\n",
       "      <td>9.1</td>\n",
       "      <td>6.9</td>\n",
       "      <td>2.9</td>\n",
       "      <td>3.2</td>\n",
       "      <td>10.7</td>\n",
       "      <td>16.7</td>\n",
       "      <td>112.0</td>\n",
       "      <td>109.0</td>\n",
       "      <td>0.2</td>\n",
       "      <td>0.1</td>\n",
       "      <td>0.3</td>\n",
       "      <td>0.102</td>\n",
       "      <td>-0.4</td>\n",
       "      <td>0.2</td>\n",
       "      <td>-0.2</td>\n",
       "      <td>0.1</td>\n",
       "      <td>Ohio</td>\n",
       "      <td>Black</td>\n",
       "      <td>2012</td>\n",
       "      <td>2014</td>\n",
       "      <td>F</td>\n",
       "      <td>6-8</td>\n",
       "      <td>226</td>\n",
       "      <td>September 30, 1988</td>\n",
       "      <td>University of Dayton</td>\n",
       "    </tr>\n",
       "  </tbody>\n",
       "</table>\n",
       "</div>"
      ],
      "text/plain": [
       "           Player   Season   Age   Tm   Lg  G   GS     MP   PER   3PAr    FTr  \\\n",
       "475  Chris Wright  2013-14  25.0  MIL  NBA  8  0.0  126.0  16.5  0.029  0.429   \n",
       "\n",
       "     ORB%  DRB%  TRB%  AST%  STL%  BLK%  TOV%  USG%   ORtg   DRtg  OWS  DWS  \\\n",
       "475   8.8   9.4   9.1   6.9   2.9   3.2  10.7  16.7  112.0  109.0  0.2  0.1   \n",
       "\n",
       "      WS  WS/48  OBPM  DBPM  BPM  VORP Place_of_Birth   Race  From    To Pos  \\\n",
       "475  0.3  0.102  -0.4   0.2 -0.2   0.1           Ohio  Black  2012  2014   F   \n",
       "\n",
       "      Ht   Wt          Birth Date               College  \n",
       "475  6-8  226  September 30, 1988  University of Dayton  "
      ]
     },
     "execution_count": 43,
     "metadata": {},
     "output_type": "execute_result"
    }
   ],
   "source": [
    "merge_stat_cv[merge_stat_cv['Player'].str.contains('Chris Wright')]"
   ]
  },
  {
   "cell_type": "markdown",
   "metadata": {},
   "source": [
    "#### preprocess the name"
   ]
  },
  {
   "cell_type": "code",
   "execution_count": 44,
   "metadata": {},
   "outputs": [
    {
     "data": {
      "text/plain": [
       "True"
      ]
     },
     "execution_count": 44,
     "metadata": {},
     "output_type": "execute_result"
    }
   ],
   "source": [
    "# all names contain \",\"\n",
    "player_salary_13_14['NAME'].str.contains(\",\").sum() == player_salary_13_14.shape[0]"
   ]
  },
  {
   "cell_type": "code",
   "execution_count": 45,
   "metadata": {},
   "outputs": [],
   "source": [
    "# all names contain one and only one \",\"\n",
    "for l in player_salary_13_14['NAME'].str.split(\",\").to_list():\n",
    "    if len(l)!=2:\n",
    "        print(l)"
   ]
  },
  {
   "cell_type": "markdown",
   "metadata": {},
   "source": [
    "<div class=\"alert alert-success\">\n",
    "\n",
    "- Comment: We noticed that in player_salary_14_15, these five players' names are not in good format: Jeff Taylor, Louis Williams, Luc Richard Mbah A Moute, Patty Mills, erik jay murphy. For example, in the table merge_stat_cv, Jeff Taylor is called Jeffery Taylor."
   ]
  },
  {
   "cell_type": "code",
   "execution_count": 46,
   "metadata": {},
   "outputs": [],
   "source": [
    "false_names = ['jeff taylor', 'louis williams', 'luc richard mbah a moute', 'patty mills', 'erik jay murphy']\n",
    "true_names = ['jeffery taylor', 'lou williams', 'luc mbah a moute', 'patrick mills', 'erik murphy']"
   ]
  },
  {
   "cell_type": "code",
   "execution_count": 47,
   "metadata": {},
   "outputs": [],
   "source": [
    "def preprocess_name(name):\n",
    "    if ',' in name:\n",
    "        ind = name.find(',')\n",
    "        name = name[:ind]\n",
    "    ### We remove the Jr.\n",
    "    if \"Jr.\" in name:\n",
    "        name = name.replace(\" Jr.\", \"\")\n",
    "    if \"Jr\" in name:\n",
    "        name = name.replace(\" Jr.\", \"\")\n",
    "    if \"III\" in name:\n",
    "        name = name.replace(\" III\", \"\")\n",
    "    while '.' in name:\n",
    "        ind = name.find('.')\n",
    "        name = name.replace('.','')\n",
    "        \n",
    "    name = name.lower()\n",
    "    name = name.strip()\n",
    "    \n",
    "    if name in false_names:\n",
    "        name = true_names[false_names.index(name)]\n",
    "    \n",
    "    return name"
   ]
  },
  {
   "cell_type": "markdown",
   "metadata": {},
   "source": [
    "## Final dataframe to work on for 2013-2014"
   ]
  },
  {
   "cell_type": "code",
   "execution_count": 48,
   "metadata": {},
   "outputs": [],
   "source": [
    "player_salary_13_14['Player'] = player_salary_13_14['NAME'].apply(lambda s: preprocess_name(s))"
   ]
  },
  {
   "cell_type": "code",
   "execution_count": 49,
   "metadata": {},
   "outputs": [
    {
     "data": {
      "text/plain": [
       "(388, 6)"
      ]
     },
     "execution_count": 49,
     "metadata": {},
     "output_type": "execute_result"
    }
   ],
   "source": [
    "player_salary_13_14.shape"
   ]
  },
  {
   "cell_type": "code",
   "execution_count": 50,
   "metadata": {},
   "outputs": [],
   "source": [
    "merge_stat_cv['Player'] = merge_stat_cv['Player'].apply(lambda s: preprocess_name(s))"
   ]
  },
  {
   "cell_type": "code",
   "execution_count": 51,
   "metadata": {},
   "outputs": [
    {
     "data": {
      "text/plain": [
       "(482, 38)"
      ]
     },
     "execution_count": 51,
     "metadata": {},
     "output_type": "execute_result"
    }
   ],
   "source": [
    "merge_stat_cv.shape"
   ]
  },
  {
   "cell_type": "code",
   "execution_count": 52,
   "metadata": {},
   "outputs": [
    {
     "data": {
      "text/plain": [
       "(380, 43)"
      ]
     },
     "execution_count": 52,
     "metadata": {},
     "output_type": "execute_result"
    }
   ],
   "source": [
    "merge = pd.merge(merge_stat_cv, player_salary_13_14, left_on='Player', right_on='Player', how='inner')\n",
    "merge.shape"
   ]
  },
  {
   "cell_type": "code",
   "execution_count": 53,
   "metadata": {},
   "outputs": [
    {
     "data": {
      "text/html": [
       "<div>\n",
       "<style scoped>\n",
       "    .dataframe tbody tr th:only-of-type {\n",
       "        vertical-align: middle;\n",
       "    }\n",
       "\n",
       "    .dataframe tbody tr th {\n",
       "        vertical-align: top;\n",
       "    }\n",
       "\n",
       "    .dataframe thead th {\n",
       "        text-align: right;\n",
       "    }\n",
       "</style>\n",
       "<table border=\"1\" class=\"dataframe\">\n",
       "  <thead>\n",
       "    <tr style=\"text-align: right;\">\n",
       "      <th></th>\n",
       "      <th>Player</th>\n",
       "      <th>Season</th>\n",
       "      <th>Age</th>\n",
       "      <th>Tm</th>\n",
       "      <th>Lg</th>\n",
       "      <th>G</th>\n",
       "      <th>GS</th>\n",
       "      <th>MP</th>\n",
       "      <th>PER</th>\n",
       "      <th>3PAr</th>\n",
       "      <th>FTr</th>\n",
       "      <th>ORB%</th>\n",
       "      <th>DRB%</th>\n",
       "      <th>TRB%</th>\n",
       "      <th>AST%</th>\n",
       "      <th>STL%</th>\n",
       "      <th>BLK%</th>\n",
       "      <th>TOV%</th>\n",
       "      <th>USG%</th>\n",
       "      <th>ORtg</th>\n",
       "      <th>DRtg</th>\n",
       "      <th>OWS</th>\n",
       "      <th>DWS</th>\n",
       "      <th>WS</th>\n",
       "      <th>WS/48</th>\n",
       "      <th>OBPM</th>\n",
       "      <th>DBPM</th>\n",
       "      <th>BPM</th>\n",
       "      <th>VORP</th>\n",
       "      <th>Place_of_Birth</th>\n",
       "      <th>Race</th>\n",
       "      <th>From</th>\n",
       "      <th>To</th>\n",
       "      <th>Pos</th>\n",
       "      <th>Ht</th>\n",
       "      <th>Wt</th>\n",
       "      <th>Birth Date</th>\n",
       "      <th>College</th>\n",
       "      <th>SEASON</th>\n",
       "      <th>RK</th>\n",
       "      <th>NAME</th>\n",
       "      <th>TEAM</th>\n",
       "      <th>SALARY</th>\n",
       "    </tr>\n",
       "  </thead>\n",
       "  <tbody>\n",
       "    <tr>\n",
       "      <th>0</th>\n",
       "      <td>quincy acy</td>\n",
       "      <td>2013-14</td>\n",
       "      <td>23.0</td>\n",
       "      <td>TOT</td>\n",
       "      <td>NBA</td>\n",
       "      <td>63</td>\n",
       "      <td>0.0</td>\n",
       "      <td>847.0</td>\n",
       "      <td>10.1</td>\n",
       "      <td>0.106</td>\n",
       "      <td>0.376</td>\n",
       "      <td>9.5</td>\n",
       "      <td>19.5</td>\n",
       "      <td>14.4</td>\n",
       "      <td>4.9</td>\n",
       "      <td>1.4</td>\n",
       "      <td>2.5</td>\n",
       "      <td>15.4</td>\n",
       "      <td>10.1</td>\n",
       "      <td>109.0</td>\n",
       "      <td>107.0</td>\n",
       "      <td>0.6</td>\n",
       "      <td>0.9</td>\n",
       "      <td>1.5</td>\n",
       "      <td>0.086</td>\n",
       "      <td>-2.5</td>\n",
       "      <td>1.4</td>\n",
       "      <td>-1.1</td>\n",
       "      <td>0.2</td>\n",
       "      <td>Texas</td>\n",
       "      <td>Black</td>\n",
       "      <td>2013</td>\n",
       "      <td>2016</td>\n",
       "      <td>F</td>\n",
       "      <td>6-7</td>\n",
       "      <td>240</td>\n",
       "      <td>October 6, 1990</td>\n",
       "      <td>Baylor University</td>\n",
       "      <td>2013-2014</td>\n",
       "      <td>326</td>\n",
       "      <td>Quincy Acy, SF</td>\n",
       "      <td>Toronto Raptors</td>\n",
       "      <td>788872</td>\n",
       "    </tr>\n",
       "    <tr>\n",
       "      <th>1</th>\n",
       "      <td>steven adams</td>\n",
       "      <td>2013-14</td>\n",
       "      <td>20.0</td>\n",
       "      <td>OKC</td>\n",
       "      <td>NBA</td>\n",
       "      <td>81</td>\n",
       "      <td>20.0</td>\n",
       "      <td>1197.0</td>\n",
       "      <td>11.2</td>\n",
       "      <td>0.000</td>\n",
       "      <td>0.735</td>\n",
       "      <td>14.1</td>\n",
       "      <td>17.1</td>\n",
       "      <td>15.6</td>\n",
       "      <td>4.9</td>\n",
       "      <td>1.7</td>\n",
       "      <td>3.9</td>\n",
       "      <td>22.5</td>\n",
       "      <td>11.7</td>\n",
       "      <td>108.0</td>\n",
       "      <td>102.0</td>\n",
       "      <td>0.9</td>\n",
       "      <td>1.9</td>\n",
       "      <td>2.9</td>\n",
       "      <td>0.114</td>\n",
       "      <td>-2.1</td>\n",
       "      <td>2.4</td>\n",
       "      <td>0.3</td>\n",
       "      <td>0.7</td>\n",
       "      <td>New zealand</td>\n",
       "      <td>White</td>\n",
       "      <td>2014</td>\n",
       "      <td>2016</td>\n",
       "      <td>C</td>\n",
       "      <td>7-0</td>\n",
       "      <td>255</td>\n",
       "      <td>July 20, 1993</td>\n",
       "      <td>University of Pittsburgh</td>\n",
       "      <td>2013-2014</td>\n",
       "      <td>227</td>\n",
       "      <td>Steven Adams, C</td>\n",
       "      <td>Oklahoma City Thunder</td>\n",
       "      <td>2090880</td>\n",
       "    </tr>\n",
       "    <tr>\n",
       "      <th>2</th>\n",
       "      <td>jeff adrien</td>\n",
       "      <td>2013-14</td>\n",
       "      <td>27.0</td>\n",
       "      <td>TOT</td>\n",
       "      <td>NBA</td>\n",
       "      <td>53</td>\n",
       "      <td>12.0</td>\n",
       "      <td>961.0</td>\n",
       "      <td>17.4</td>\n",
       "      <td>0.000</td>\n",
       "      <td>0.433</td>\n",
       "      <td>11.8</td>\n",
       "      <td>24.8</td>\n",
       "      <td>18.2</td>\n",
       "      <td>6.8</td>\n",
       "      <td>1.3</td>\n",
       "      <td>3.0</td>\n",
       "      <td>10.6</td>\n",
       "      <td>17.3</td>\n",
       "      <td>114.0</td>\n",
       "      <td>106.0</td>\n",
       "      <td>1.6</td>\n",
       "      <td>1.1</td>\n",
       "      <td>2.7</td>\n",
       "      <td>0.134</td>\n",
       "      <td>-1.4</td>\n",
       "      <td>0.3</td>\n",
       "      <td>-1.1</td>\n",
       "      <td>0.2</td>\n",
       "      <td>Massachusetts</td>\n",
       "      <td>Black</td>\n",
       "      <td>2011</td>\n",
       "      <td>2015</td>\n",
       "      <td>F</td>\n",
       "      <td>6-7</td>\n",
       "      <td>245</td>\n",
       "      <td>February 10, 1986</td>\n",
       "      <td>University of Connecticut</td>\n",
       "      <td>2013-2014</td>\n",
       "      <td>310</td>\n",
       "      <td>Jeff Adrien, SF</td>\n",
       "      <td>Charlotte Bobcats</td>\n",
       "      <td>916099</td>\n",
       "    </tr>\n",
       "  </tbody>\n",
       "</table>\n",
       "</div>"
      ],
      "text/plain": [
       "         Player   Season   Age   Tm   Lg   G    GS      MP   PER   3PAr  \\\n",
       "0    quincy acy  2013-14  23.0  TOT  NBA  63   0.0   847.0  10.1  0.106   \n",
       "1  steven adams  2013-14  20.0  OKC  NBA  81  20.0  1197.0  11.2  0.000   \n",
       "2   jeff adrien  2013-14  27.0  TOT  NBA  53  12.0   961.0  17.4  0.000   \n",
       "\n",
       "     FTr  ORB%  DRB%  TRB%  AST%  STL%  BLK%  TOV%  USG%   ORtg   DRtg  OWS  \\\n",
       "0  0.376   9.5  19.5  14.4   4.9   1.4   2.5  15.4  10.1  109.0  107.0  0.6   \n",
       "1  0.735  14.1  17.1  15.6   4.9   1.7   3.9  22.5  11.7  108.0  102.0  0.9   \n",
       "2  0.433  11.8  24.8  18.2   6.8   1.3   3.0  10.6  17.3  114.0  106.0  1.6   \n",
       "\n",
       "   DWS   WS  WS/48  OBPM  DBPM  BPM  VORP Place_of_Birth   Race  From    To  \\\n",
       "0  0.9  1.5  0.086  -2.5   1.4 -1.1   0.2         Texas   Black  2013  2016   \n",
       "1  1.9  2.9  0.114  -2.1   2.4  0.3   0.7    New zealand  White  2014  2016   \n",
       "2  1.1  2.7  0.134  -1.4   0.3 -1.1   0.2  Massachusetts  Black  2011  2015   \n",
       "\n",
       "  Pos   Ht   Wt         Birth Date                    College     SEASON   RK  \\\n",
       "0   F  6-7  240    October 6, 1990          Baylor University  2013-2014  326   \n",
       "1   C  7-0  255      July 20, 1993   University of Pittsburgh  2013-2014  227   \n",
       "2   F  6-7  245  February 10, 1986  University of Connecticut  2013-2014  310   \n",
       "\n",
       "              NAME                   TEAM   SALARY  \n",
       "0   Quincy Acy, SF        Toronto Raptors   788872  \n",
       "1  Steven Adams, C  Oklahoma City Thunder  2090880  \n",
       "2  Jeff Adrien, SF      Charlotte Bobcats   916099  "
      ]
     },
     "execution_count": 53,
     "metadata": {},
     "output_type": "execute_result"
    }
   ],
   "source": [
    "merge.head(3)"
   ]
  },
  {
   "cell_type": "code",
   "execution_count": 56,
   "metadata": {},
   "outputs": [],
   "source": [
    "merge.to_csv(data_path + \"merge_13_14.csv\")"
   ]
  }
 ],
 "metadata": {
  "kernelspec": {
   "display_name": "Python 3",
   "language": "python",
   "name": "python3"
  },
  "language_info": {
   "codemirror_mode": {
    "name": "ipython",
    "version": 3
   },
   "file_extension": ".py",
   "mimetype": "text/x-python",
   "name": "python",
   "nbconvert_exporter": "python",
   "pygments_lexer": "ipython3",
   "version": "3.8.8"
  }
 },
 "nbformat": 4,
 "nbformat_minor": 4
}
