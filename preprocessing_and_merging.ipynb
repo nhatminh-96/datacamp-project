{
 "cells": [
  {
   "cell_type": "code",
   "execution_count": 17,
   "metadata": {},
   "outputs": [],
   "source": [
    "import numpy as np\n",
    "import pandas as pd\n",
    "import string\n",
    "import re\n",
    "\n",
    "import seaborn as sns\n",
    "pd.set_option('display.max_columns', None)"
   ]
  },
  {
   "cell_type": "code",
   "execution_count": 322,
   "metadata": {},
   "outputs": [],
   "source": [
    "import warnings\n",
    "warnings.filterwarnings('ignore')"
   ]
  },
  {
   "cell_type": "code",
   "execution_count": 2,
   "metadata": {},
   "outputs": [],
   "source": [
    "data_path = \"./data/\""
   ]
  },
  {
   "cell_type": "code",
   "execution_count": 3,
   "metadata": {},
   "outputs": [],
   "source": [
    "player_stat = pd.read_excel(data_path + \"players stat.xlsx\")"
   ]
  },
  {
   "cell_type": "code",
   "execution_count": 4,
   "metadata": {},
   "outputs": [],
   "source": [
    "player_cv = pd.read_excel(data_path + \"players cv.xlsx\")"
   ]
  },
  {
   "cell_type": "code",
   "execution_count": 5,
   "metadata": {},
   "outputs": [],
   "source": [
    "player_salary = pd.read_excel(data_path + \"players salary.xlsx\")"
   ]
  },
  {
   "cell_type": "markdown",
   "metadata": {},
   "source": [
    "# Season 2015-2016"
   ]
  },
  {
   "cell_type": "code",
   "execution_count": 6,
   "metadata": {},
   "outputs": [],
   "source": [
    "player_stat_15_16 = player_stat[player_stat['Season'] == '2015-16']"
   ]
  },
  {
   "cell_type": "code",
   "execution_count": 7,
   "metadata": {},
   "outputs": [],
   "source": [
    "player_salary_15_16 = player_salary[player_salary['SEASON'] == '2015-2016']"
   ]
  },
  {
   "cell_type": "code",
   "execution_count": 8,
   "metadata": {},
   "outputs": [],
   "source": [
    "player_cv_15_16 = player_cv[(player_cv['From']<=2016) & (player_cv['To']>=2015)]"
   ]
  },
  {
   "cell_type": "markdown",
   "metadata": {},
   "source": [
    "## Merge Stat and CV"
   ]
  },
  {
   "cell_type": "code",
   "execution_count": 9,
   "metadata": {},
   "outputs": [],
   "source": [
    "merge_stat_cv = pd.merge(player_stat_15_16, player_cv_15_16, left_on='Player', right_on='Player', how='inner')"
   ]
  },
  {
   "cell_type": "code",
   "execution_count": 14,
   "metadata": {
    "scrolled": false
   },
   "outputs": [
    {
     "data": {
      "text/plain": [
       "(470, 38)"
      ]
     },
     "execution_count": 14,
     "metadata": {},
     "output_type": "execute_result"
    }
   ],
   "source": [
    "merge_stat_cv.shape"
   ]
  },
  {
   "cell_type": "markdown",
   "metadata": {},
   "source": [
    "## Merge Stat and CV and Salary"
   ]
  },
  {
   "cell_type": "code",
   "execution_count": 19,
   "metadata": {},
   "outputs": [],
   "source": [
    "def preprocess_name(name):\n",
    "    if ',' in name:\n",
    "        ind = name.find(',')\n",
    "        name = name[:ind]\n",
    "    ### We remove the Jr.\n",
    "    if \"Jr.\" in name:\n",
    "        name = name.replace(\"Jr.\", \"\")\n",
    "    if \"Jr\" in name:\n",
    "        name = name.replace(\"Jr.\", \"\")\n",
    "    if \"III\" in name:\n",
    "        name = name.replace(\"III\", \"\")\n",
    "    while '.' in name:\n",
    "        ind = name.find('.')\n",
    "        name = name.replace('.','')\n",
    "    name = name.lower()\n",
    "    \n",
    "    return name"
   ]
  },
  {
   "cell_type": "code",
   "execution_count": 20,
   "metadata": {},
   "outputs": [
    {
     "name": "stderr",
     "output_type": "stream",
     "text": [
      "<ipython-input-20-a0c402b0e77e>:1: SettingWithCopyWarning: \n",
      "A value is trying to be set on a copy of a slice from a DataFrame.\n",
      "Try using .loc[row_indexer,col_indexer] = value instead\n",
      "\n",
      "See the caveats in the documentation: https://pandas.pydata.org/pandas-docs/stable/user_guide/indexing.html#returning-a-view-versus-a-copy\n",
      "  player_salary_15_16['Player'] = player_salary_15_16['NAME'].apply(lambda s: preprocess_name(s))\n"
     ]
    }
   ],
   "source": [
    "player_salary_15_16['Player'] = player_salary_15_16['NAME'].apply(lambda s: preprocess_name(s))"
   ]
  },
  {
   "cell_type": "code",
   "execution_count": 21,
   "metadata": {},
   "outputs": [],
   "source": [
    "merge_stat_cv['Player'] = merge_stat_cv['Player'].apply(lambda s: preprocess_name(s))"
   ]
  },
  {
   "cell_type": "code",
   "execution_count": 22,
   "metadata": {},
   "outputs": [
    {
     "data": {
      "text/plain": [
       "470"
      ]
     },
     "execution_count": 22,
     "metadata": {},
     "output_type": "execute_result"
    }
   ],
   "source": [
    "len(set(merge_stat_cv['Player']))"
   ]
  },
  {
   "cell_type": "code",
   "execution_count": 23,
   "metadata": {},
   "outputs": [],
   "source": [
    "merge = pd.merge(merge_stat_cv, player_salary_15_16, left_on='Player', right_on='Player', how='inner')"
   ]
  },
  {
   "cell_type": "code",
   "execution_count": 24,
   "metadata": {},
   "outputs": [
    {
     "data": {
      "text/plain": [
       "(377, 43)"
      ]
     },
     "execution_count": 24,
     "metadata": {},
     "output_type": "execute_result"
    }
   ],
   "source": [
    "merge.shape"
   ]
  },
  {
   "cell_type": "markdown",
   "metadata": {},
   "source": [
    "## Final dataframe to work on for 2015-2016"
   ]
  },
  {
   "cell_type": "code",
   "execution_count": 25,
   "metadata": {},
   "outputs": [
    {
     "data": {
      "text/html": [
       "<div>\n",
       "<style scoped>\n",
       "    .dataframe tbody tr th:only-of-type {\n",
       "        vertical-align: middle;\n",
       "    }\n",
       "\n",
       "    .dataframe tbody tr th {\n",
       "        vertical-align: top;\n",
       "    }\n",
       "\n",
       "    .dataframe thead th {\n",
       "        text-align: right;\n",
       "    }\n",
       "</style>\n",
       "<table border=\"1\" class=\"dataframe\">\n",
       "  <thead>\n",
       "    <tr style=\"text-align: right;\">\n",
       "      <th></th>\n",
       "      <th>Player</th>\n",
       "      <th>Season</th>\n",
       "      <th>Age</th>\n",
       "      <th>Tm</th>\n",
       "      <th>Lg</th>\n",
       "      <th>G</th>\n",
       "      <th>GS</th>\n",
       "      <th>MP</th>\n",
       "      <th>PER</th>\n",
       "      <th>3PAr</th>\n",
       "      <th>FTr</th>\n",
       "      <th>ORB%</th>\n",
       "      <th>DRB%</th>\n",
       "      <th>TRB%</th>\n",
       "      <th>AST%</th>\n",
       "      <th>STL%</th>\n",
       "      <th>BLK%</th>\n",
       "      <th>TOV%</th>\n",
       "      <th>USG%</th>\n",
       "      <th>ORtg</th>\n",
       "      <th>DRtg</th>\n",
       "      <th>OWS</th>\n",
       "      <th>DWS</th>\n",
       "      <th>WS</th>\n",
       "      <th>WS/48</th>\n",
       "      <th>OBPM</th>\n",
       "      <th>DBPM</th>\n",
       "      <th>BPM</th>\n",
       "      <th>VORP</th>\n",
       "      <th>Place_of_Birth</th>\n",
       "      <th>Race</th>\n",
       "      <th>From</th>\n",
       "      <th>To</th>\n",
       "      <th>Pos</th>\n",
       "      <th>Ht</th>\n",
       "      <th>Wt</th>\n",
       "      <th>Birth Date</th>\n",
       "      <th>College</th>\n",
       "      <th>SEASON</th>\n",
       "      <th>RK</th>\n",
       "      <th>NAME</th>\n",
       "      <th>TEAM</th>\n",
       "      <th>SALARY</th>\n",
       "    </tr>\n",
       "  </thead>\n",
       "  <tbody>\n",
       "    <tr>\n",
       "      <th>0</th>\n",
       "      <td>thanasis antetokounmpo</td>\n",
       "      <td>2015-16</td>\n",
       "      <td>23.0</td>\n",
       "      <td>NYK</td>\n",
       "      <td>NBA</td>\n",
       "      <td>2</td>\n",
       "      <td>0.0</td>\n",
       "      <td>6.0</td>\n",
       "      <td>32.9</td>\n",
       "      <td>0.250</td>\n",
       "      <td>0.000</td>\n",
       "      <td>0.0</td>\n",
       "      <td>17.9</td>\n",
       "      <td>9.1</td>\n",
       "      <td>0.0</td>\n",
       "      <td>0.0</td>\n",
       "      <td>0.0</td>\n",
       "      <td>0.0</td>\n",
       "      <td>30.2</td>\n",
       "      <td>140.0</td>\n",
       "      <td>110.0</td>\n",
       "      <td>0.0</td>\n",
       "      <td>0.0</td>\n",
       "      <td>0.0</td>\n",
       "      <td>0.291</td>\n",
       "      <td>6.3</td>\n",
       "      <td>-10.5</td>\n",
       "      <td>-4.1</td>\n",
       "      <td>0.0</td>\n",
       "      <td>Greece</td>\n",
       "      <td>Black</td>\n",
       "      <td>2016</td>\n",
       "      <td>2016</td>\n",
       "      <td>F</td>\n",
       "      <td>6-7</td>\n",
       "      <td>205</td>\n",
       "      <td>July 17, 1992</td>\n",
       "      <td>NaN</td>\n",
       "      <td>2015-2016</td>\n",
       "      <td>416</td>\n",
       "      <td>Thanasis Antetokounmpo, SF</td>\n",
       "      <td>New York Knicks</td>\n",
       "      <td>30888</td>\n",
       "    </tr>\n",
       "    <tr>\n",
       "      <th>1</th>\n",
       "      <td>stephen curry</td>\n",
       "      <td>2015-16</td>\n",
       "      <td>27.0</td>\n",
       "      <td>GSW</td>\n",
       "      <td>NBA</td>\n",
       "      <td>79</td>\n",
       "      <td>79.0</td>\n",
       "      <td>2700.0</td>\n",
       "      <td>31.5</td>\n",
       "      <td>0.554</td>\n",
       "      <td>0.250</td>\n",
       "      <td>2.9</td>\n",
       "      <td>13.6</td>\n",
       "      <td>8.6</td>\n",
       "      <td>33.7</td>\n",
       "      <td>3.0</td>\n",
       "      <td>0.4</td>\n",
       "      <td>12.9</td>\n",
       "      <td>32.6</td>\n",
       "      <td>125.0</td>\n",
       "      <td>103.0</td>\n",
       "      <td>13.8</td>\n",
       "      <td>4.1</td>\n",
       "      <td>17.9</td>\n",
       "      <td>0.318</td>\n",
       "      <td>12.4</td>\n",
       "      <td>0.1</td>\n",
       "      <td>12.5</td>\n",
       "      <td>9.8</td>\n",
       "      <td>Ohio</td>\n",
       "      <td>Black and White</td>\n",
       "      <td>2010</td>\n",
       "      <td>2016</td>\n",
       "      <td>G</td>\n",
       "      <td>6-3</td>\n",
       "      <td>185</td>\n",
       "      <td>March 14, 1988</td>\n",
       "      <td>Davidson College</td>\n",
       "      <td>2015-2016</td>\n",
       "      <td>55</td>\n",
       "      <td>Stephen Curry, PG</td>\n",
       "      <td>Golden State Warriors</td>\n",
       "      <td>11370786</td>\n",
       "    </tr>\n",
       "    <tr>\n",
       "      <th>2</th>\n",
       "      <td>kevin durant</td>\n",
       "      <td>2015-16</td>\n",
       "      <td>27.0</td>\n",
       "      <td>OKC</td>\n",
       "      <td>NBA</td>\n",
       "      <td>72</td>\n",
       "      <td>72.0</td>\n",
       "      <td>2578.0</td>\n",
       "      <td>28.2</td>\n",
       "      <td>0.348</td>\n",
       "      <td>0.361</td>\n",
       "      <td>2.0</td>\n",
       "      <td>21.8</td>\n",
       "      <td>12.4</td>\n",
       "      <td>24.2</td>\n",
       "      <td>1.3</td>\n",
       "      <td>2.5</td>\n",
       "      <td>13.5</td>\n",
       "      <td>30.6</td>\n",
       "      <td>122.0</td>\n",
       "      <td>104.0</td>\n",
       "      <td>11.0</td>\n",
       "      <td>3.5</td>\n",
       "      <td>14.5</td>\n",
       "      <td>0.270</td>\n",
       "      <td>7.0</td>\n",
       "      <td>0.9</td>\n",
       "      <td>7.9</td>\n",
       "      <td>6.4</td>\n",
       "      <td>District of Columbia</td>\n",
       "      <td>Black</td>\n",
       "      <td>2008</td>\n",
       "      <td>2016</td>\n",
       "      <td>F</td>\n",
       "      <td>6-9</td>\n",
       "      <td>240</td>\n",
       "      <td>September 29, 1988</td>\n",
       "      <td>University of Texas at Austin</td>\n",
       "      <td>2015-2016</td>\n",
       "      <td>7</td>\n",
       "      <td>Kevin Durant, SF</td>\n",
       "      <td>Oklahoma City Thunder</td>\n",
       "      <td>20158622</td>\n",
       "    </tr>\n",
       "  </tbody>\n",
       "</table>\n",
       "</div>"
      ],
      "text/plain": [
       "                   Player   Season   Age   Tm   Lg   G    GS      MP   PER  \\\n",
       "0  thanasis antetokounmpo  2015-16  23.0  NYK  NBA   2   0.0     6.0  32.9   \n",
       "1           stephen curry  2015-16  27.0  GSW  NBA  79  79.0  2700.0  31.5   \n",
       "2            kevin durant  2015-16  27.0  OKC  NBA  72  72.0  2578.0  28.2   \n",
       "\n",
       "    3PAr    FTr  ORB%  DRB%  TRB%  AST%  STL%  BLK%  TOV%  USG%   ORtg   DRtg  \\\n",
       "0  0.250  0.000   0.0  17.9   9.1   0.0   0.0   0.0   0.0  30.2  140.0  110.0   \n",
       "1  0.554  0.250   2.9  13.6   8.6  33.7   3.0   0.4  12.9  32.6  125.0  103.0   \n",
       "2  0.348  0.361   2.0  21.8  12.4  24.2   1.3   2.5  13.5  30.6  122.0  104.0   \n",
       "\n",
       "    OWS  DWS    WS  WS/48  OBPM  DBPM   BPM  VORP        Place_of_Birth  \\\n",
       "0   0.0  0.0   0.0  0.291   6.3 -10.5  -4.1   0.0                Greece   \n",
       "1  13.8  4.1  17.9  0.318  12.4   0.1  12.5   9.8                  Ohio   \n",
       "2  11.0  3.5  14.5  0.270   7.0   0.9   7.9   6.4  District of Columbia   \n",
       "\n",
       "              Race  From    To Pos   Ht   Wt          Birth Date  \\\n",
       "0            Black  2016  2016   F  6-7  205       July 17, 1992   \n",
       "1  Black and White  2010  2016   G  6-3  185      March 14, 1988   \n",
       "2            Black  2008  2016   F  6-9  240  September 29, 1988   \n",
       "\n",
       "                         College     SEASON   RK                        NAME  \\\n",
       "0                            NaN  2015-2016  416  Thanasis Antetokounmpo, SF   \n",
       "1               Davidson College  2015-2016   55           Stephen Curry, PG   \n",
       "2  University of Texas at Austin  2015-2016    7            Kevin Durant, SF   \n",
       "\n",
       "                    TEAM    SALARY  \n",
       "0        New York Knicks     30888  \n",
       "1  Golden State Warriors  11370786  \n",
       "2  Oklahoma City Thunder  20158622  "
      ]
     },
     "execution_count": 25,
     "metadata": {},
     "output_type": "execute_result"
    }
   ],
   "source": [
    "merge.head(3)"
   ]
  },
  {
   "cell_type": "code",
   "execution_count": null,
   "metadata": {},
   "outputs": [],
   "source": []
  }
 ],
 "metadata": {
  "kernelspec": {
   "display_name": "Python 3",
   "language": "python",
   "name": "python3"
  },
  "language_info": {
   "codemirror_mode": {
    "name": "ipython",
    "version": 3
   },
   "file_extension": ".py",
   "mimetype": "text/x-python",
   "name": "python",
   "nbconvert_exporter": "python",
   "pygments_lexer": "ipython3",
   "version": "3.8.8"
  }
 },
 "nbformat": 4,
 "nbformat_minor": 4
}
