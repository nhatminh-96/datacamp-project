{
 "cells": [
  {
   "cell_type": "code",
   "execution_count": 4,
   "id": "1b2f6fe1",
   "metadata": {},
   "outputs": [],
   "source": [
    "import pandas as pd\n",
    "import numpy as np\n",
    "import matplotlib.pyplot as plt"
   ]
  },
  {
   "cell_type": "code",
   "execution_count": 25,
   "id": "20bc301c",
   "metadata": {},
   "outputs": [],
   "source": [
    "salary_df = pd.read_excel('./data/players salary.xlsx')\n",
    "players_cv = pd.read_excel('./data/players cv.xlsx')"
   ]
  },
  {
   "cell_type": "markdown",
   "id": "af8023fd",
   "metadata": {},
   "source": [
    "# Players cv"
   ]
  },
  {
   "cell_type": "code",
   "execution_count": 30,
   "id": "8eb5e9c0",
   "metadata": {},
   "outputs": [
    {
     "data": {
      "text/html": [
       "<div>\n",
       "<style scoped>\n",
       "    .dataframe tbody tr th:only-of-type {\n",
       "        vertical-align: middle;\n",
       "    }\n",
       "\n",
       "    .dataframe tbody tr th {\n",
       "        vertical-align: top;\n",
       "    }\n",
       "\n",
       "    .dataframe thead th {\n",
       "        text-align: right;\n",
       "    }\n",
       "</style>\n",
       "<table border=\"1\" class=\"dataframe\">\n",
       "  <thead>\n",
       "    <tr style=\"text-align: right;\">\n",
       "      <th></th>\n",
       "      <th>Player</th>\n",
       "      <th>Place_of_Birth</th>\n",
       "      <th>Race</th>\n",
       "      <th>From</th>\n",
       "      <th>To</th>\n",
       "      <th>Pos</th>\n",
       "      <th>Ht</th>\n",
       "      <th>Wt</th>\n",
       "      <th>Birth Date</th>\n",
       "      <th>College</th>\n",
       "    </tr>\n",
       "  </thead>\n",
       "  <tbody>\n",
       "    <tr>\n",
       "      <th>0</th>\n",
       "      <td>Alaa Abdelnaby</td>\n",
       "      <td>Egypt</td>\n",
       "      <td>Black and White</td>\n",
       "      <td>1991</td>\n",
       "      <td>1995</td>\n",
       "      <td>F-C</td>\n",
       "      <td>6-10</td>\n",
       "      <td>240</td>\n",
       "      <td>June 24, 1968</td>\n",
       "      <td>Duke University</td>\n",
       "    </tr>\n",
       "    <tr>\n",
       "      <th>1</th>\n",
       "      <td>Kareem Abdul-Jabbar*</td>\n",
       "      <td>New York</td>\n",
       "      <td>Black</td>\n",
       "      <td>1970</td>\n",
       "      <td>1989</td>\n",
       "      <td>C</td>\n",
       "      <td>7-2</td>\n",
       "      <td>225</td>\n",
       "      <td>April 16, 1947</td>\n",
       "      <td>University of California, Los Angeles</td>\n",
       "    </tr>\n",
       "    <tr>\n",
       "      <th>2</th>\n",
       "      <td>Mahmoud Abdul-Rauf</td>\n",
       "      <td>Mississippi</td>\n",
       "      <td>Black</td>\n",
       "      <td>1991</td>\n",
       "      <td>2001</td>\n",
       "      <td>G</td>\n",
       "      <td>6-1</td>\n",
       "      <td>162</td>\n",
       "      <td>March 9, 1969</td>\n",
       "      <td>Louisiana State University</td>\n",
       "    </tr>\n",
       "    <tr>\n",
       "      <th>3</th>\n",
       "      <td>Tariq Abdul-Wahad</td>\n",
       "      <td>France</td>\n",
       "      <td>White</td>\n",
       "      <td>1998</td>\n",
       "      <td>2003</td>\n",
       "      <td>F</td>\n",
       "      <td>6-6</td>\n",
       "      <td>223</td>\n",
       "      <td>November 3, 1974</td>\n",
       "      <td>San Jose State University</td>\n",
       "    </tr>\n",
       "    <tr>\n",
       "      <th>4</th>\n",
       "      <td>Shareef Abdur-Rahim</td>\n",
       "      <td>Georgia</td>\n",
       "      <td>Black</td>\n",
       "      <td>1997</td>\n",
       "      <td>2008</td>\n",
       "      <td>F</td>\n",
       "      <td>6-9</td>\n",
       "      <td>225</td>\n",
       "      <td>December 11, 1976</td>\n",
       "      <td>University of California</td>\n",
       "    </tr>\n",
       "  </tbody>\n",
       "</table>\n",
       "</div>"
      ],
      "text/plain": [
       "                 Player Place_of_Birth             Race  From    To  Pos  \\\n",
       "0        Alaa Abdelnaby          Egypt  Black and White  1991  1995  F-C   \n",
       "1  Kareem Abdul-Jabbar*       New York            Black  1970  1989    C   \n",
       "2    Mahmoud Abdul-Rauf   Mississippi             Black  1991  2001    G   \n",
       "3     Tariq Abdul-Wahad         France            White  1998  2003    F   \n",
       "4   Shareef Abdur-Rahim       Georgia             Black  1997  2008    F   \n",
       "\n",
       "     Ht   Wt         Birth Date                                College  \n",
       "0  6-10  240      June 24, 1968                        Duke University  \n",
       "1   7-2  225     April 16, 1947  University of California, Los Angeles  \n",
       "2   6-1  162      March 9, 1969             Louisiana State University  \n",
       "3   6-6  223   November 3, 1974              San Jose State University  \n",
       "4   6-9  225  December 11, 1976               University of California  "
      ]
     },
     "execution_count": 30,
     "metadata": {},
     "output_type": "execute_result"
    }
   ],
   "source": [
    "players_cv.head()"
   ]
  },
  {
   "cell_type": "code",
   "execution_count": 31,
   "id": "d9c14a09",
   "metadata": {},
   "outputs": [
    {
     "name": "stdout",
     "output_type": "stream",
     "text": [
      "<class 'pandas.core.frame.DataFrame'>\n",
      "RangeIndex: 2485 entries, 0 to 2484\n",
      "Data columns (total 10 columns):\n",
      " #   Column          Non-Null Count  Dtype \n",
      "---  ------          --------------  ----- \n",
      " 0   Player          2485 non-null   object\n",
      " 1   Place_of_Birth  2485 non-null   object\n",
      " 2   Race            2485 non-null   object\n",
      " 3   From            2485 non-null   int64 \n",
      " 4   To              2485 non-null   int64 \n",
      " 5   Pos             2485 non-null   object\n",
      " 6   Ht              2485 non-null   object\n",
      " 7   Wt              2485 non-null   int64 \n",
      " 8   Birth Date      2485 non-null   object\n",
      " 9   College         2236 non-null   object\n",
      "dtypes: int64(3), object(7)\n",
      "memory usage: 194.3+ KB\n"
     ]
    }
   ],
   "source": [
    "players_cv.info()"
   ]
  },
  {
   "cell_type": "markdown",
   "id": "14076122",
   "metadata": {},
   "source": [
    "We have some missing values in the column College."
   ]
  },
  {
   "cell_type": "code",
   "execution_count": 36,
   "id": "5ecaa586",
   "metadata": {},
   "outputs": [
    {
     "name": "stdout",
     "output_type": "stream",
     "text": [
      "Number of players in the cv dataframe\n"
     ]
    },
    {
     "data": {
      "text/plain": [
       "2460"
      ]
     },
     "execution_count": 36,
     "metadata": {},
     "output_type": "execute_result"
    }
   ],
   "source": [
    "print('Number of players in the cv dataframe')\n",
    "len(players_cv['Player'].unique())"
   ]
  },
  {
   "cell_type": "code",
   "execution_count": 37,
   "id": "b55ba956",
   "metadata": {},
   "outputs": [
    {
     "data": {
      "text/plain": [
       "array(['Black and White', 'Black', 'White', 'Others', 'White '],\n",
       "      dtype=object)"
      ]
     },
     "execution_count": 37,
     "metadata": {},
     "output_type": "execute_result"
    }
   ],
   "source": [
    "players_cv['Race'].unique()"
   ]
  },
  {
   "cell_type": "code",
   "execution_count": 40,
   "id": "b6278c3e",
   "metadata": {},
   "outputs": [
    {
     "name": "stdout",
     "output_type": "stream",
     "text": [
      "Number of places of birth\n"
     ]
    },
    {
     "data": {
      "text/plain": [
       "183"
      ]
     },
     "execution_count": 40,
     "metadata": {},
     "output_type": "execute_result"
    }
   ],
   "source": [
    "print('Number of places of birth')\n",
    "len(players_cv['Place_of_Birth'].unique())"
   ]
  },
  {
   "cell_type": "code",
   "execution_count": 41,
   "id": "3e58cdb7",
   "metadata": {},
   "outputs": [
    {
     "name": "stdout",
     "output_type": "stream",
     "text": [
      "How many colleges in the df ?\n"
     ]
    },
    {
     "data": {
      "text/plain": [
       "333"
      ]
     },
     "execution_count": 41,
     "metadata": {},
     "output_type": "execute_result"
    }
   ],
   "source": [
    "print('How many colleges in the df ?')\n",
    "len(players_cv['College'].unique())"
   ]
  },
  {
   "cell_type": "code",
   "execution_count": null,
   "id": "5d16ba48",
   "metadata": {},
   "outputs": [],
   "source": [
    "players_cv.groupby"
   ]
  },
  {
   "cell_type": "code",
   "execution_count": 17,
   "id": "0ac41c9b",
   "metadata": {},
   "outputs": [
    {
     "name": "stdout",
     "output_type": "stream",
     "text": [
      "<class 'pandas.core.frame.DataFrame'>\n",
      "RangeIndex: 6168 entries, 0 to 6167\n",
      "Data columns (total 5 columns):\n",
      " #   Column  Non-Null Count  Dtype \n",
      "---  ------  --------------  ----- \n",
      " 0   SEASON  6168 non-null   object\n",
      " 1   RK      6168 non-null   int64 \n",
      " 2   NAME    6168 non-null   object\n",
      " 3   TEAM    6168 non-null   object\n",
      " 4   SALARY  6168 non-null   int64 \n",
      "dtypes: int64(2), object(3)\n",
      "memory usage: 241.1+ KB\n"
     ]
    }
   ],
   "source": [
    "salary_df.info()"
   ]
  },
  {
   "cell_type": "code",
   "execution_count": 24,
   "id": "feb9335a",
   "metadata": {},
   "outputs": [
    {
     "data": {
      "text/html": [
       "<div>\n",
       "<style scoped>\n",
       "    .dataframe tbody tr th:only-of-type {\n",
       "        vertical-align: middle;\n",
       "    }\n",
       "\n",
       "    .dataframe tbody tr th {\n",
       "        vertical-align: top;\n",
       "    }\n",
       "\n",
       "    .dataframe thead th {\n",
       "        text-align: right;\n",
       "    }\n",
       "</style>\n",
       "<table border=\"1\" class=\"dataframe\">\n",
       "  <thead>\n",
       "    <tr style=\"text-align: right;\">\n",
       "      <th></th>\n",
       "      <th>SEASON</th>\n",
       "      <th>RK</th>\n",
       "      <th>NAME</th>\n",
       "      <th>TEAM</th>\n",
       "      <th>SALARY</th>\n",
       "    </tr>\n",
       "  </thead>\n",
       "  <tbody>\n",
       "    <tr>\n",
       "      <th>2491</th>\n",
       "      <td>2012-2013</td>\n",
       "      <td>1</td>\n",
       "      <td>Kobe Bryant, SF</td>\n",
       "      <td>Los Angeles Lakers</td>\n",
       "      <td>30453805</td>\n",
       "    </tr>\n",
       "    <tr>\n",
       "      <th>2499</th>\n",
       "      <td>2013-2014</td>\n",
       "      <td>1</td>\n",
       "      <td>Kobe Bryant, SF</td>\n",
       "      <td>Los Angeles Lakers</td>\n",
       "      <td>30453805</td>\n",
       "    </tr>\n",
       "    <tr>\n",
       "      <th>2812</th>\n",
       "      <td>2004-2005</td>\n",
       "      <td>1</td>\n",
       "      <td>Shaquille O'Neal, C</td>\n",
       "      <td>Miami Heat</td>\n",
       "      <td>29464000</td>\n",
       "    </tr>\n",
       "    <tr>\n",
       "      <th>3207</th>\n",
       "      <td>2003-2004</td>\n",
       "      <td>1</td>\n",
       "      <td>Kevin Garnett, PF</td>\n",
       "      <td>Minnesota Timberwolves</td>\n",
       "      <td>28000000</td>\n",
       "    </tr>\n",
       "    <tr>\n",
       "      <th>2396</th>\n",
       "      <td>2003-2004</td>\n",
       "      <td>2</td>\n",
       "      <td>Shaquille O'Neal, C</td>\n",
       "      <td>Los Angeles Lakers</td>\n",
       "      <td>26571000</td>\n",
       "    </tr>\n",
       "    <tr>\n",
       "      <th>...</th>\n",
       "      <td>...</td>\n",
       "      <td>...</td>\n",
       "      <td>...</td>\n",
       "      <td>...</td>\n",
       "      <td>...</td>\n",
       "    </tr>\n",
       "    <tr>\n",
       "      <th>4212</th>\n",
       "      <td>2009-2010</td>\n",
       "      <td>424</td>\n",
       "      <td>Greg Stiemsma, C</td>\n",
       "      <td>Orlando Magic</td>\n",
       "      <td>5383</td>\n",
       "    </tr>\n",
       "    <tr>\n",
       "      <th>3465</th>\n",
       "      <td>2007-2008</td>\n",
       "      <td>417</td>\n",
       "      <td>Billy Thomas, SG</td>\n",
       "      <td>New Jersey Nets</td>\n",
       "      <td>4533</td>\n",
       "    </tr>\n",
       "    <tr>\n",
       "      <th>5567</th>\n",
       "      <td>2007-2008</td>\n",
       "      <td>416</td>\n",
       "      <td>Linton Johnson, PF</td>\n",
       "      <td>Toronto Raptors</td>\n",
       "      <td>4533</td>\n",
       "    </tr>\n",
       "    <tr>\n",
       "      <th>2650</th>\n",
       "      <td>2009-2010</td>\n",
       "      <td>425</td>\n",
       "      <td>Tony Gaffney, SF</td>\n",
       "      <td>Memphis Grizzlies</td>\n",
       "      <td>2692</td>\n",
       "    </tr>\n",
       "    <tr>\n",
       "      <th>285</th>\n",
       "      <td>2009-2010</td>\n",
       "      <td>426</td>\n",
       "      <td>Oliver Lafayette, G</td>\n",
       "      <td>Boston Celtics</td>\n",
       "      <td>2692</td>\n",
       "    </tr>\n",
       "  </tbody>\n",
       "</table>\n",
       "<p>6168 rows × 5 columns</p>\n",
       "</div>"
      ],
      "text/plain": [
       "         SEASON   RK                 NAME                    TEAM    SALARY\n",
       "2491  2012-2013    1      Kobe Bryant, SF      Los Angeles Lakers  30453805\n",
       "2499  2013-2014    1      Kobe Bryant, SF      Los Angeles Lakers  30453805\n",
       "2812  2004-2005    1  Shaquille O'Neal, C              Miami Heat  29464000\n",
       "3207  2003-2004    1    Kevin Garnett, PF  Minnesota Timberwolves  28000000\n",
       "2396  2003-2004    2  Shaquille O'Neal, C      Los Angeles Lakers  26571000\n",
       "...         ...  ...                  ...                     ...       ...\n",
       "4212  2009-2010  424     Greg Stiemsma, C           Orlando Magic      5383\n",
       "3465  2007-2008  417     Billy Thomas, SG         New Jersey Nets      4533\n",
       "5567  2007-2008  416   Linton Johnson, PF         Toronto Raptors      4533\n",
       "2650  2009-2010  425     Tony Gaffney, SF       Memphis Grizzlies      2692\n",
       "285   2009-2010  426  Oliver Lafayette, G          Boston Celtics      2692\n",
       "\n",
       "[6168 rows x 5 columns]"
      ]
     },
     "execution_count": 24,
     "metadata": {},
     "output_type": "execute_result"
    }
   ],
   "source": [
    "salary_df.sort_values('SALARY', ascending=False)"
   ]
  },
  {
   "cell_type": "code",
   "execution_count": null,
   "id": "ec214d47",
   "metadata": {},
   "outputs": [],
   "source": []
  },
  {
   "cell_type": "code",
   "execution_count": 13,
   "id": "a81e0217",
   "metadata": {},
   "outputs": [
    {
     "data": {
      "text/plain": [
       "1328"
      ]
     },
     "execution_count": 13,
     "metadata": {},
     "output_type": "execute_result"
    }
   ],
   "source": [
    "len(salary['NAME'].unique())"
   ]
  },
  {
   "cell_type": "code",
   "execution_count": null,
   "id": "1f576658",
   "metadata": {},
   "outputs": [],
   "source": []
  }
 ],
 "metadata": {
  "kernelspec": {
   "display_name": "Python 3",
   "language": "python",
   "name": "python3"
  },
  "language_info": {
   "codemirror_mode": {
    "name": "ipython",
    "version": 3
   },
   "file_extension": ".py",
   "mimetype": "text/x-python",
   "name": "python",
   "nbconvert_exporter": "python",
   "pygments_lexer": "ipython3",
   "version": "3.8.8"
  }
 },
 "nbformat": 4,
 "nbformat_minor": 5
}
