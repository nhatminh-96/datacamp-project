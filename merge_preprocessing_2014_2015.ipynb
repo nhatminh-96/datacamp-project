{
 "cells": [
  {
   "cell_type": "code",
   "execution_count": 11,
   "metadata": {},
   "outputs": [],
   "source": [
    "import numpy as np\n",
    "import pandas as pd\n",
    "import string\n",
    "import re\n",
    "\n",
    "import seaborn as sns\n",
    "pd.set_option('display.max_columns', None)"
   ]
  },
  {
   "cell_type": "code",
   "execution_count": 12,
   "metadata": {},
   "outputs": [],
   "source": [
    "import warnings\n",
    "warnings.filterwarnings('ignore')"
   ]
  },
  {
   "cell_type": "code",
   "execution_count": 13,
   "metadata": {},
   "outputs": [],
   "source": [
    "data_path = \"data/\""
   ]
  },
  {
   "cell_type": "code",
   "execution_count": 14,
   "metadata": {},
   "outputs": [],
   "source": [
    "player_stat = pd.read_excel(data_path + \"players stat.xlsx\")\n",
    "player_cv = pd.read_excel(data_path + \"players cv.xlsx\")\n",
    "player_salary = pd.read_excel(data_path + \"players salary.xlsx\")"
   ]
  },
  {
   "cell_type": "markdown",
   "metadata": {},
   "source": [
    "### 2014-2015 season for player_stat"
   ]
  },
  {
   "cell_type": "code",
   "execution_count": 15,
   "metadata": {},
   "outputs": [
    {
     "data": {
      "text/plain": [
       "(492, 29)"
      ]
     },
     "execution_count": 15,
     "metadata": {},
     "output_type": "execute_result"
    }
   ],
   "source": [
    "player_stat_14_15 = player_stat[player_stat['Season'] == '2014-15']\n",
    "player_stat_14_15.shape"
   ]
  },
  {
   "cell_type": "code",
   "execution_count": 16,
   "metadata": {},
   "outputs": [
    {
     "data": {
      "text/plain": [
       "Quincy Acy          1\n",
       "Shabazz Napier      1\n",
       "Toure' Murry        1\n",
       "Shabazz Muhammad    1\n",
       "Timofey Mozgov      1\n",
       "                   ..\n",
       "Joel Freeland       1\n",
       "Jimmer Fredette     1\n",
       "Tim Frazier         1\n",
       "Jamaal Franklin     1\n",
       "Tyler Zeller        1\n",
       "Name: Player, Length: 492, dtype: int64"
      ]
     },
     "execution_count": 16,
     "metadata": {},
     "output_type": "execute_result"
    }
   ],
   "source": [
    "player_stat_14_15['Player'].value_counts()"
   ]
  },
  {
   "cell_type": "markdown",
   "metadata": {},
   "source": [
    "<div class=\"alert alert-success\">\n",
    "\n",
    "- Comment: no duplicated names for player_stat_14_15"
   ]
  },
  {
   "cell_type": "markdown",
   "metadata": {},
   "source": [
    "### Get 2014-2015 data for player_cv"
   ]
  },
  {
   "cell_type": "code",
   "execution_count": 17,
   "metadata": {},
   "outputs": [],
   "source": [
    "player_cv_14_15 = player_cv[(player_cv['From']<=2015) & (player_cv['To']>=2014)]"
   ]
  },
  {
   "cell_type": "code",
   "execution_count": 18,
   "metadata": {},
   "outputs": [
    {
     "data": {
      "text/plain": [
       "(582, 10)"
      ]
     },
     "execution_count": 18,
     "metadata": {},
     "output_type": "execute_result"
    }
   ],
   "source": [
    "player_cv_14_15.shape"
   ]
  },
  {
   "cell_type": "markdown",
   "metadata": {},
   "source": [
    "### Merge these two"
   ]
  },
  {
   "cell_type": "code",
   "execution_count": 19,
   "metadata": {},
   "outputs": [],
   "source": [
    "merge_stat_cv = pd.merge(player_stat_14_15, player_cv_14_15, left_on='Player', right_on='Player', how='inner')"
   ]
  },
  {
   "cell_type": "code",
   "execution_count": 20,
   "metadata": {},
   "outputs": [
    {
     "data": {
      "text/plain": [
       "True"
      ]
     },
     "execution_count": 20,
     "metadata": {},
     "output_type": "execute_result"
    }
   ],
   "source": [
    "merge_stat_cv.shape[0] == player_stat_14_15.shape[0]"
   ]
  },
  {
   "cell_type": "markdown",
   "metadata": {},
   "source": [
    "<div class=\"alert alert-success\">\n",
    "\n",
    "- Comment: $\\{$player $P$: $P \\in$ player_stat_14_15$\\}$  $\\subseteq$ \\{ player $P$: $P \\in$ player_cv_14_15 \\}"
   ]
  },
  {
   "cell_type": "markdown",
   "metadata": {},
   "source": [
    "### Get 2014-2015 data for player_salary"
   ]
  },
  {
   "cell_type": "code",
   "execution_count": 21,
   "metadata": {},
   "outputs": [],
   "source": [
    "player_salary_14_15 = player_salary[player_salary['SEASON'] == '2014-2015']"
   ]
  },
  {
   "cell_type": "code",
   "execution_count": 22,
   "metadata": {},
   "outputs": [
    {
     "data": {
      "text/plain": [
       "(432, 5)"
      ]
     },
     "execution_count": 22,
     "metadata": {},
     "output_type": "execute_result"
    }
   ],
   "source": [
    "player_salary_14_15.shape"
   ]
  },
  {
   "cell_type": "code",
   "execution_count": 23,
   "metadata": {},
   "outputs": [
    {
     "data": {
      "text/html": [
       "<div>\n",
       "<style scoped>\n",
       "    .dataframe tbody tr th:only-of-type {\n",
       "        vertical-align: middle;\n",
       "    }\n",
       "\n",
       "    .dataframe tbody tr th {\n",
       "        vertical-align: top;\n",
       "    }\n",
       "\n",
       "    .dataframe thead th {\n",
       "        text-align: right;\n",
       "    }\n",
       "</style>\n",
       "<table border=\"1\" class=\"dataframe\">\n",
       "  <thead>\n",
       "    <tr style=\"text-align: right;\">\n",
       "      <th></th>\n",
       "      <th>SEASON</th>\n",
       "      <th>RK</th>\n",
       "      <th>NAME</th>\n",
       "      <th>TEAM</th>\n",
       "      <th>SALARY</th>\n",
       "    </tr>\n",
       "  </thead>\n",
       "  <tbody>\n",
       "    <tr>\n",
       "      <th>158</th>\n",
       "      <td>2014-2015</td>\n",
       "      <td>41</td>\n",
       "      <td>Al Horford, C</td>\n",
       "      <td>Atlanta Hawks</td>\n",
       "      <td>12000000</td>\n",
       "    </tr>\n",
       "    <tr>\n",
       "      <th>159</th>\n",
       "      <td>2014-2015</td>\n",
       "      <td>59</td>\n",
       "      <td>Paul Millsap, PF</td>\n",
       "      <td>Atlanta Hawks</td>\n",
       "      <td>9500000</td>\n",
       "    </tr>\n",
       "    <tr>\n",
       "      <th>160</th>\n",
       "      <td>2014-2015</td>\n",
       "      <td>74</td>\n",
       "      <td>Jeff Teague, PG</td>\n",
       "      <td>Atlanta Hawks</td>\n",
       "      <td>8000000</td>\n",
       "    </tr>\n",
       "  </tbody>\n",
       "</table>\n",
       "</div>"
      ],
      "text/plain": [
       "        SEASON  RK              NAME           TEAM    SALARY\n",
       "158  2014-2015  41     Al Horford, C  Atlanta Hawks  12000000\n",
       "159  2014-2015  59  Paul Millsap, PF  Atlanta Hawks   9500000\n",
       "160  2014-2015  74   Jeff Teague, PG  Atlanta Hawks   8000000"
      ]
     },
     "execution_count": 23,
     "metadata": {},
     "output_type": "execute_result"
    }
   ],
   "source": [
    "player_salary_14_15.head(3)"
   ]
  },
  {
   "cell_type": "markdown",
   "metadata": {},
   "source": [
    "#### preprocess the name"
   ]
  },
  {
   "cell_type": "code",
   "execution_count": 24,
   "metadata": {},
   "outputs": [
    {
     "data": {
      "text/plain": [
       "True"
      ]
     },
     "execution_count": 24,
     "metadata": {},
     "output_type": "execute_result"
    }
   ],
   "source": [
    "# all names contain \",\"\n",
    "player_salary_14_15['NAME'].str.contains(\",\").sum() == player_salary_14_15.shape[0]"
   ]
  },
  {
   "cell_type": "code",
   "execution_count": 25,
   "metadata": {},
   "outputs": [],
   "source": [
    "# all names contain one and only one \",\"\n",
    "for l in player_salary_14_15['NAME'].str.split(\",\").to_list():\n",
    "    if len(l)!=2:\n",
    "        print(l)"
   ]
  },
  {
   "cell_type": "markdown",
   "metadata": {},
   "source": [
    "<div class=\"alert alert-success\">\n",
    "\n",
    "- Comment: We noticed that in player_salary_14_15, these four players' names are not in good format: Jeff Taylor, Louis Williams, Luc Richard Mbah A Moute, Patty Mills. For example, in the table merge_stat_cv, Jeff Taylor is called Jeffery Taylor."
   ]
  },
  {
   "cell_type": "code",
   "execution_count": 26,
   "metadata": {},
   "outputs": [],
   "source": [
    "false_names = ['jeff taylor', 'louis williams', 'luc richard mbah a moute', 'patty mills']\n",
    "true_names = ['jeffery taylor', 'lou williams', 'luc mbah a moute', 'patrick mills']"
   ]
  },
  {
   "cell_type": "code",
   "execution_count": 27,
   "metadata": {},
   "outputs": [],
   "source": [
    "def preprocess_name(name):\n",
    "    if ',' in name:\n",
    "        ind = name.find(',')\n",
    "        name = name[:ind]\n",
    "    ### We remove the Jr.\n",
    "    if \"Jr.\" in name:\n",
    "        name = name.replace(\" Jr.\", \"\")\n",
    "    if \"Jr\" in name:\n",
    "        name = name.replace(\" Jr.\", \"\")\n",
    "    if \"III\" in name:\n",
    "        name = name.replace(\" III\", \"\")\n",
    "    while '.' in name:\n",
    "        ind = name.find('.')\n",
    "        name = name.replace('.','')\n",
    "        \n",
    "    name = name.lower()\n",
    "    name = name.strip()\n",
    "    \n",
    "    if name in false_names:\n",
    "        name = true_names[false_names.index(name)]\n",
    "    \n",
    "    return name"
   ]
  },
  {
   "cell_type": "markdown",
   "metadata": {},
   "source": [
    "## Final dataframe to work on for 2014-2015"
   ]
  },
  {
   "cell_type": "code",
   "execution_count": 28,
   "metadata": {},
   "outputs": [],
   "source": [
    "player_salary_14_15['Player'] = player_salary_14_15['NAME'].apply(lambda s: preprocess_name(s))"
   ]
  },
  {
   "cell_type": "code",
   "execution_count": 29,
   "metadata": {},
   "outputs": [],
   "source": [
    "merge_stat_cv['Player'] = merge_stat_cv['Player'].apply(lambda s: preprocess_name(s))"
   ]
  },
  {
   "cell_type": "code",
   "execution_count": 33,
   "metadata": {},
   "outputs": [
    {
     "data": {
      "text/plain": [
       "(406, 43)"
      ]
     },
     "execution_count": 33,
     "metadata": {},
     "output_type": "execute_result"
    }
   ],
   "source": [
    "merge_14_15 = pd.merge(merge_stat_cv, player_salary_14_15, left_on='Player', right_on='Player', how='inner')\n",
    "merge_14_15.shape"
   ]
  },
  {
   "cell_type": "code",
   "execution_count": 34,
   "metadata": {},
   "outputs": [
    {
     "data": {
      "text/html": [
       "<div>\n",
       "<style scoped>\n",
       "    .dataframe tbody tr th:only-of-type {\n",
       "        vertical-align: middle;\n",
       "    }\n",
       "\n",
       "    .dataframe tbody tr th {\n",
       "        vertical-align: top;\n",
       "    }\n",
       "\n",
       "    .dataframe thead th {\n",
       "        text-align: right;\n",
       "    }\n",
       "</style>\n",
       "<table border=\"1\" class=\"dataframe\">\n",
       "  <thead>\n",
       "    <tr style=\"text-align: right;\">\n",
       "      <th></th>\n",
       "      <th>Player</th>\n",
       "      <th>Season</th>\n",
       "      <th>Age</th>\n",
       "      <th>Tm</th>\n",
       "      <th>Lg</th>\n",
       "      <th>G</th>\n",
       "      <th>GS</th>\n",
       "      <th>MP</th>\n",
       "      <th>PER</th>\n",
       "      <th>3PAr</th>\n",
       "      <th>FTr</th>\n",
       "      <th>ORB%</th>\n",
       "      <th>DRB%</th>\n",
       "      <th>TRB%</th>\n",
       "      <th>AST%</th>\n",
       "      <th>STL%</th>\n",
       "      <th>BLK%</th>\n",
       "      <th>TOV%</th>\n",
       "      <th>USG%</th>\n",
       "      <th>ORtg</th>\n",
       "      <th>DRtg</th>\n",
       "      <th>OWS</th>\n",
       "      <th>DWS</th>\n",
       "      <th>WS</th>\n",
       "      <th>WS/48</th>\n",
       "      <th>OBPM</th>\n",
       "      <th>DBPM</th>\n",
       "      <th>BPM</th>\n",
       "      <th>VORP</th>\n",
       "      <th>Place_of_Birth</th>\n",
       "      <th>Race</th>\n",
       "      <th>From</th>\n",
       "      <th>To</th>\n",
       "      <th>Pos</th>\n",
       "      <th>Ht</th>\n",
       "      <th>Wt</th>\n",
       "      <th>Birth Date</th>\n",
       "      <th>College</th>\n",
       "      <th>SEASON</th>\n",
       "      <th>RK</th>\n",
       "      <th>NAME</th>\n",
       "      <th>TEAM</th>\n",
       "      <th>SALARY</th>\n",
       "    </tr>\n",
       "  </thead>\n",
       "  <tbody>\n",
       "    <tr>\n",
       "      <th>0</th>\n",
       "      <td>jordan adams</td>\n",
       "      <td>2014-15</td>\n",
       "      <td>20.0</td>\n",
       "      <td>MEM</td>\n",
       "      <td>NBA</td>\n",
       "      <td>30</td>\n",
       "      <td>0.0</td>\n",
       "      <td>248.0</td>\n",
       "      <td>12.8</td>\n",
       "      <td>0.291</td>\n",
       "      <td>0.267</td>\n",
       "      <td>4.2</td>\n",
       "      <td>8.7</td>\n",
       "      <td>6.4</td>\n",
       "      <td>10.1</td>\n",
       "      <td>3.4</td>\n",
       "      <td>2.3</td>\n",
       "      <td>12.7</td>\n",
       "      <td>20.4</td>\n",
       "      <td>96.0</td>\n",
       "      <td>100.0</td>\n",
       "      <td>0.0</td>\n",
       "      <td>0.4</td>\n",
       "      <td>0.4</td>\n",
       "      <td>0.073</td>\n",
       "      <td>-1.8</td>\n",
       "      <td>1.2</td>\n",
       "      <td>-0.6</td>\n",
       "      <td>0.1</td>\n",
       "      <td>Georgia</td>\n",
       "      <td>Black</td>\n",
       "      <td>2015</td>\n",
       "      <td>2016</td>\n",
       "      <td>G</td>\n",
       "      <td>6-5</td>\n",
       "      <td>209</td>\n",
       "      <td>July 8, 1994</td>\n",
       "      <td>University of California, Los Angeles</td>\n",
       "      <td>2014-2015</td>\n",
       "      <td>299</td>\n",
       "      <td>Jordan Adams, SG</td>\n",
       "      <td>Memphis Grizzlies</td>\n",
       "      <td>1344120</td>\n",
       "    </tr>\n",
       "    <tr>\n",
       "      <th>1</th>\n",
       "      <td>steven adams</td>\n",
       "      <td>2014-15</td>\n",
       "      <td>21.0</td>\n",
       "      <td>OKC</td>\n",
       "      <td>NBA</td>\n",
       "      <td>70</td>\n",
       "      <td>67.0</td>\n",
       "      <td>1771.0</td>\n",
       "      <td>14.1</td>\n",
       "      <td>0.005</td>\n",
       "      <td>0.514</td>\n",
       "      <td>12.2</td>\n",
       "      <td>19.3</td>\n",
       "      <td>15.8</td>\n",
       "      <td>5.5</td>\n",
       "      <td>1.1</td>\n",
       "      <td>3.8</td>\n",
       "      <td>16.8</td>\n",
       "      <td>14.3</td>\n",
       "      <td>108.0</td>\n",
       "      <td>104.0</td>\n",
       "      <td>1.9</td>\n",
       "      <td>2.2</td>\n",
       "      <td>4.1</td>\n",
       "      <td>0.111</td>\n",
       "      <td>-1.4</td>\n",
       "      <td>1.8</td>\n",
       "      <td>0.4</td>\n",
       "      <td>1.1</td>\n",
       "      <td>New zealand</td>\n",
       "      <td>White</td>\n",
       "      <td>2014</td>\n",
       "      <td>2016</td>\n",
       "      <td>C</td>\n",
       "      <td>7-0</td>\n",
       "      <td>255</td>\n",
       "      <td>July 20, 1993</td>\n",
       "      <td>University of Pittsburgh</td>\n",
       "      <td>2014-2015</td>\n",
       "      <td>242</td>\n",
       "      <td>Steven Adams, C</td>\n",
       "      <td>Oklahoma City Thunder</td>\n",
       "      <td>2184960</td>\n",
       "    </tr>\n",
       "    <tr>\n",
       "      <th>2</th>\n",
       "      <td>jeff adrien</td>\n",
       "      <td>2014-15</td>\n",
       "      <td>28.0</td>\n",
       "      <td>MIN</td>\n",
       "      <td>NBA</td>\n",
       "      <td>17</td>\n",
       "      <td>0.0</td>\n",
       "      <td>215.0</td>\n",
       "      <td>14.2</td>\n",
       "      <td>0.000</td>\n",
       "      <td>0.864</td>\n",
       "      <td>11.9</td>\n",
       "      <td>29.6</td>\n",
       "      <td>20.5</td>\n",
       "      <td>10.5</td>\n",
       "      <td>0.9</td>\n",
       "      <td>3.3</td>\n",
       "      <td>12.9</td>\n",
       "      <td>14.3</td>\n",
       "      <td>109.0</td>\n",
       "      <td>108.0</td>\n",
       "      <td>0.2</td>\n",
       "      <td>0.2</td>\n",
       "      <td>0.4</td>\n",
       "      <td>0.087</td>\n",
       "      <td>-2.7</td>\n",
       "      <td>0.5</td>\n",
       "      <td>-2.2</td>\n",
       "      <td>0.0</td>\n",
       "      <td>Massachusetts</td>\n",
       "      <td>Black</td>\n",
       "      <td>2011</td>\n",
       "      <td>2015</td>\n",
       "      <td>F</td>\n",
       "      <td>6-7</td>\n",
       "      <td>245</td>\n",
       "      <td>February 10, 1986</td>\n",
       "      <td>University of Connecticut</td>\n",
       "      <td>2014-2015</td>\n",
       "      <td>377</td>\n",
       "      <td>Jeff Adrien, SF</td>\n",
       "      <td>Minnesota Timberwolves</td>\n",
       "      <td>742962</td>\n",
       "    </tr>\n",
       "    <tr>\n",
       "      <th>3</th>\n",
       "      <td>arron afflalo</td>\n",
       "      <td>2014-15</td>\n",
       "      <td>29.0</td>\n",
       "      <td>TOT</td>\n",
       "      <td>NBA</td>\n",
       "      <td>78</td>\n",
       "      <td>72.0</td>\n",
       "      <td>2502.0</td>\n",
       "      <td>10.7</td>\n",
       "      <td>0.377</td>\n",
       "      <td>0.224</td>\n",
       "      <td>1.1</td>\n",
       "      <td>9.7</td>\n",
       "      <td>5.3</td>\n",
       "      <td>8.2</td>\n",
       "      <td>0.8</td>\n",
       "      <td>0.2</td>\n",
       "      <td>10.7</td>\n",
       "      <td>19.0</td>\n",
       "      <td>103.0</td>\n",
       "      <td>111.0</td>\n",
       "      <td>1.6</td>\n",
       "      <td>1.0</td>\n",
       "      <td>2.6</td>\n",
       "      <td>0.050</td>\n",
       "      <td>-0.5</td>\n",
       "      <td>-1.3</td>\n",
       "      <td>-1.8</td>\n",
       "      <td>0.1</td>\n",
       "      <td>California</td>\n",
       "      <td>Black</td>\n",
       "      <td>2008</td>\n",
       "      <td>2016</td>\n",
       "      <td>G</td>\n",
       "      <td>6-5</td>\n",
       "      <td>210</td>\n",
       "      <td>October 15, 1985</td>\n",
       "      <td>University of California, Los Angeles</td>\n",
       "      <td>2014-2015</td>\n",
       "      <td>79</td>\n",
       "      <td>Arron Afflalo, SG</td>\n",
       "      <td>Portland Trail Blazers</td>\n",
       "      <td>7500000</td>\n",
       "    </tr>\n",
       "    <tr>\n",
       "      <th>4</th>\n",
       "      <td>alexis ajinca</td>\n",
       "      <td>2014-15</td>\n",
       "      <td>26.0</td>\n",
       "      <td>NOP</td>\n",
       "      <td>NBA</td>\n",
       "      <td>68</td>\n",
       "      <td>8.0</td>\n",
       "      <td>957.0</td>\n",
       "      <td>19.9</td>\n",
       "      <td>0.000</td>\n",
       "      <td>0.301</td>\n",
       "      <td>12.4</td>\n",
       "      <td>25.0</td>\n",
       "      <td>18.7</td>\n",
       "      <td>8.2</td>\n",
       "      <td>1.2</td>\n",
       "      <td>4.0</td>\n",
       "      <td>15.6</td>\n",
       "      <td>21.1</td>\n",
       "      <td>113.0</td>\n",
       "      <td>103.0</td>\n",
       "      <td>1.9</td>\n",
       "      <td>1.2</td>\n",
       "      <td>3.2</td>\n",
       "      <td>0.159</td>\n",
       "      <td>-0.5</td>\n",
       "      <td>0.6</td>\n",
       "      <td>0.2</td>\n",
       "      <td>0.5</td>\n",
       "      <td>France</td>\n",
       "      <td>White</td>\n",
       "      <td>2009</td>\n",
       "      <td>2016</td>\n",
       "      <td>C</td>\n",
       "      <td>7-2</td>\n",
       "      <td>248</td>\n",
       "      <td>May 6, 1988</td>\n",
       "      <td>NaN</td>\n",
       "      <td>2014-2015</td>\n",
       "      <td>339</td>\n",
       "      <td>Alexis Ajinca, C</td>\n",
       "      <td>New Orleans Pelicans</td>\n",
       "      <td>981084</td>\n",
       "    </tr>\n",
       "  </tbody>\n",
       "</table>\n",
       "</div>"
      ],
      "text/plain": [
       "          Player   Season   Age   Tm   Lg   G    GS      MP   PER   3PAr  \\\n",
       "0   jordan adams  2014-15  20.0  MEM  NBA  30   0.0   248.0  12.8  0.291   \n",
       "1   steven adams  2014-15  21.0  OKC  NBA  70  67.0  1771.0  14.1  0.005   \n",
       "2    jeff adrien  2014-15  28.0  MIN  NBA  17   0.0   215.0  14.2  0.000   \n",
       "3  arron afflalo  2014-15  29.0  TOT  NBA  78  72.0  2502.0  10.7  0.377   \n",
       "4  alexis ajinca  2014-15  26.0  NOP  NBA  68   8.0   957.0  19.9  0.000   \n",
       "\n",
       "     FTr  ORB%  DRB%  TRB%  AST%  STL%  BLK%  TOV%  USG%   ORtg   DRtg  OWS  \\\n",
       "0  0.267   4.2   8.7   6.4  10.1   3.4   2.3  12.7  20.4   96.0  100.0  0.0   \n",
       "1  0.514  12.2  19.3  15.8   5.5   1.1   3.8  16.8  14.3  108.0  104.0  1.9   \n",
       "2  0.864  11.9  29.6  20.5  10.5   0.9   3.3  12.9  14.3  109.0  108.0  0.2   \n",
       "3  0.224   1.1   9.7   5.3   8.2   0.8   0.2  10.7  19.0  103.0  111.0  1.6   \n",
       "4  0.301  12.4  25.0  18.7   8.2   1.2   4.0  15.6  21.1  113.0  103.0  1.9   \n",
       "\n",
       "   DWS   WS  WS/48  OBPM  DBPM  BPM  VORP Place_of_Birth   Race  From    To  \\\n",
       "0  0.4  0.4  0.073  -1.8   1.2 -0.6   0.1       Georgia   Black  2015  2016   \n",
       "1  2.2  4.1  0.111  -1.4   1.8  0.4   1.1    New zealand  White  2014  2016   \n",
       "2  0.2  0.4  0.087  -2.7   0.5 -2.2   0.0  Massachusetts  Black  2011  2015   \n",
       "3  1.0  2.6  0.050  -0.5  -1.3 -1.8   0.1     California  Black  2008  2016   \n",
       "4  1.2  3.2  0.159  -0.5   0.6  0.2   0.5         France  White  2009  2016   \n",
       "\n",
       "  Pos   Ht   Wt         Birth Date                                College  \\\n",
       "0   G  6-5  209       July 8, 1994  University of California, Los Angeles   \n",
       "1   C  7-0  255      July 20, 1993               University of Pittsburgh   \n",
       "2   F  6-7  245  February 10, 1986              University of Connecticut   \n",
       "3   G  6-5  210   October 15, 1985  University of California, Los Angeles   \n",
       "4   C  7-2  248        May 6, 1988                                    NaN   \n",
       "\n",
       "      SEASON   RK               NAME                    TEAM   SALARY  \n",
       "0  2014-2015  299   Jordan Adams, SG       Memphis Grizzlies  1344120  \n",
       "1  2014-2015  242    Steven Adams, C   Oklahoma City Thunder  2184960  \n",
       "2  2014-2015  377    Jeff Adrien, SF  Minnesota Timberwolves   742962  \n",
       "3  2014-2015   79  Arron Afflalo, SG  Portland Trail Blazers  7500000  \n",
       "4  2014-2015  339   Alexis Ajinca, C    New Orleans Pelicans   981084  "
      ]
     },
     "execution_count": 34,
     "metadata": {},
     "output_type": "execute_result"
    }
   ],
   "source": [
    "merge_14_15.head()"
   ]
  },
  {
   "cell_type": "code",
   "execution_count": 36,
   "metadata": {},
   "outputs": [
    {
     "data": {
      "text/plain": [
       "array(['Atlanta Hawks', 'Boston Celtics', 'Brooklyn Nets',\n",
       "       'Charlotte Hornets', 'Chicago Bulls', 'Cleveland Cavaliers',\n",
       "       'Dallas Mavericks', 'Denver Nuggets', 'Detroit Pistons',\n",
       "       'Golden State Warriors', 'Houston Rockets', 'Indiana Pacers',\n",
       "       'Los Angeles Clippers', 'Los Angeles Lakers', 'Memphis Grizzlies',\n",
       "       'Miami Heat', 'Milwaukee Bucks', 'Minnesota Timberwolves',\n",
       "       'New Orleans Pelicans', 'New York Knicks', 'Oklahoma City Thunder',\n",
       "       'Orlando Magic', 'Philadelphia 76ers', 'Phoenix Suns',\n",
       "       'Portland Trail Blazers', 'Sacramento Kings', 'San Antonio Spurs',\n",
       "       'Toronto Raptors', 'Utah Jazz', 'Washington Wizards'], dtype=object)"
      ]
     },
     "execution_count": 36,
     "metadata": {},
     "output_type": "execute_result"
    }
   ],
   "source": [
    "np.sort(merge_14_15.TEAM.unique())"
   ]
  },
  {
   "cell_type": "code",
   "execution_count": 38,
   "metadata": {},
   "outputs": [
    {
     "data": {
      "text/plain": [
       "<function pandas.core.generic.NDFrame.to_csv(self, path_or_buf: 'FilePathOrBuffer[AnyStr] | None' = None, sep: 'str' = ',', na_rep: 'str' = '', float_format: 'str | None' = None, columns: 'Sequence[Hashable] | None' = None, header: 'bool_t | list[str]' = True, index: 'bool_t' = True, index_label: 'IndexLabel | None' = None, mode: 'str' = 'w', encoding: 'str | None' = None, compression: 'CompressionOptions' = 'infer', quoting: 'int | None' = None, quotechar: 'str' = '\"', line_terminator: 'str | None' = None, chunksize: 'int | None' = None, date_format: 'str | None' = None, doublequote: 'bool_t' = True, escapechar: 'str | None' = None, decimal: 'str' = '.', errors: 'str' = 'strict', storage_options: 'StorageOptions' = None) -> 'str | None'>"
      ]
     },
     "execution_count": 38,
     "metadata": {},
     "output_type": "execute_result"
    }
   ],
   "source": [
    "merge_14_15.to_csv()"
   ]
  },
  {
   "cell_type": "code",
   "execution_count": null,
   "metadata": {},
   "outputs": [],
   "source": []
  }
 ],
 "metadata": {
  "kernelspec": {
   "display_name": "Python 3",
   "language": "python",
   "name": "python3"
  },
  "language_info": {
   "codemirror_mode": {
    "name": "ipython",
    "version": 3
   },
   "file_extension": ".py",
   "mimetype": "text/x-python",
   "name": "python",
   "nbconvert_exporter": "python",
   "pygments_lexer": "ipython3",
   "version": "3.8.8"
  }
 },
 "nbformat": 4,
 "nbformat_minor": 4
}
